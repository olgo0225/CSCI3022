{
 "cells": [
  {
   "cell_type": "code",
   "execution_count": 1,
   "id": "034f7d46",
   "metadata": {},
   "outputs": [],
   "source": [
    "import numpy as np \n",
    "import pandas as pd \n",
    "from scipy import stats\n",
    "import statsmodels.api as sm\n",
    "import matplotlib.pylab as plt \n",
    "from patsy import dmatrices\n",
    "import seaborn as sns\n",
    "import math\n",
    "import itertools\n",
    "%matplotlib inline"
   ]
  },
  {
   "cell_type": "code",
   "execution_count": 3,
   "id": "96108d8e",
   "metadata": {},
   "outputs": [
    {
     "data": {
      "text/plain": [
       "1.3634303180205214"
      ]
     },
     "execution_count": 3,
     "metadata": {},
     "output_type": "execute_result"
    }
   ],
   "source": [
    "stats.t.ppf(.9, df=11)"
   ]
  },
  {
   "cell_type": "code",
   "execution_count": 16,
   "id": "6e025dfa",
   "metadata": {},
   "outputs": [
    {
     "data": {
      "text/plain": [
       "1.2456173288322268"
      ]
     },
     "execution_count": 16,
     "metadata": {},
     "output_type": "execute_result"
    }
   ],
   "source": [
    "1.9819+stats.t.ppf(.025, 29)*.360"
   ]
  },
  {
   "cell_type": "code",
   "execution_count": 18,
   "id": "ad2a4a38",
   "metadata": {},
   "outputs": [
    {
     "data": {
      "text/plain": [
       "6.227774777878281e-06"
      ]
     },
     "execution_count": 18,
     "metadata": {},
     "output_type": "execute_result"
    }
   ],
   "source": [
    "2*(1-stats.t.cdf(5.5057, 29))"
   ]
  },
  {
   "cell_type": "code",
   "execution_count": 21,
   "id": "a154e772",
   "metadata": {},
   "outputs": [
    {
     "data": {
      "text/plain": [
       "0.8041736705445207"
      ]
     },
     "execution_count": 21,
     "metadata": {},
     "output_type": "execute_result"
    }
   ],
   "source": [
    "stats.norm.cdf(1.2)-stats.norm.cdf(-1.4)"
   ]
  },
  {
   "cell_type": "code",
   "execution_count": 25,
   "id": "2697822e",
   "metadata": {},
   "outputs": [
    {
     "data": {
      "text/plain": [
       "1.029967925900376"
      ]
     },
     "execution_count": 25,
     "metadata": {},
     "output_type": "execute_result"
    }
   ],
   "source": [
    "2.9037+stats.t.ppf(.025, 21)*.901"
   ]
  },
  {
   "cell_type": "code",
   "execution_count": 29,
   "id": "ef8a3d3c",
   "metadata": {},
   "outputs": [
    {
     "data": {
      "text/plain": [
       "0.8861367570548483"
      ]
     },
     "execution_count": 29,
     "metadata": {},
     "output_type": "execute_result"
    }
   ],
   "source": [
    "stats.f.pdf(.1,2,9)"
   ]
  },
  {
   "cell_type": "code",
   "execution_count": 30,
   "id": "f4d93c3e",
   "metadata": {},
   "outputs": [
    {
     "data": {
      "text/plain": [
       "0.054799291699557974"
      ]
     },
     "execution_count": 30,
     "metadata": {},
     "output_type": "execute_result"
    }
   ],
   "source": [
    "stats.norm.cdf(-1.6)"
   ]
  },
  {
   "cell_type": "code",
   "execution_count": 3,
   "id": "42de79cc",
   "metadata": {},
   "outputs": [
    {
     "data": {
      "text/plain": [
       "0.3413447460685429"
      ]
     },
     "execution_count": 3,
     "metadata": {},
     "output_type": "execute_result"
    }
   ],
   "source": [
    "stats.norm.cdf(0)-stats.norm.cdf(-1)"
   ]
  },
  {
   "cell_type": "code",
   "execution_count": 7,
   "id": "a01606d2",
   "metadata": {},
   "outputs": [
    {
     "data": {
      "text/plain": [
       "4.898406037748164"
      ]
     },
     "execution_count": 7,
     "metadata": {},
     "output_type": "execute_result"
    }
   ],
   "source": [
    "2-stats.t.ppf(.05, 9)*(5/math.sqrt(10))"
   ]
  },
  {
   "cell_type": "code",
   "execution_count": 9,
   "id": "ed4f35fd",
   "metadata": {},
   "outputs": [
    {
     "data": {
      "text/plain": [
       "0.9111311196999696"
      ]
     },
     "execution_count": 9,
     "metadata": {},
     "output_type": "execute_result"
    }
   ],
   "source": [
    "2+stats.norm.ppf(.025)*(5/9)"
   ]
  },
  {
   "cell_type": "code",
   "execution_count": 12,
   "id": "1302a3f9",
   "metadata": {},
   "outputs": [
    {
     "data": {
      "text/plain": [
       "1.5063311495095413"
      ]
     },
     "execution_count": 12,
     "metadata": {},
     "output_type": "execute_result"
    }
   ],
   "source": [
    ".8608-stats.t.ppf(.05,43)*(.384)"
   ]
  },
  {
   "cell_type": "code",
   "execution_count": 7,
   "id": "8eb6ac2a",
   "metadata": {},
   "outputs": [
    {
     "data": {
      "text/plain": [
       "4.73741412777588"
      ]
     },
     "execution_count": 7,
     "metadata": {},
     "output_type": "execute_result"
    }
   ],
   "source": [
    "stats.f.ppf(.95, 2, 7)"
   ]
  },
  {
   "cell_type": "code",
   "execution_count": 14,
   "id": "8aac3d13",
   "metadata": {},
   "outputs": [
    {
     "name": "stdout",
     "output_type": "stream",
     "text": [
      "2.3060041350333704 4.302652729911275 1.959963984540054\n"
     ]
    }
   ],
   "source": [
    "A = stats.t.ppf(.975, 8)\n",
    "B = stats.t.ppf(.975, 2)\n",
    "C = stats.norm.ppf(.975)\n",
    "\n",
    "print(A,B,C)"
   ]
  },
  {
   "cell_type": "code",
   "execution_count": 30,
   "id": "7df71121",
   "metadata": {},
   "outputs": [
    {
     "data": {
      "text/plain": [
       "0.5118979291015977"
      ]
     },
     "execution_count": 30,
     "metadata": {},
     "output_type": "execute_result"
    }
   ],
   "source": [
    "0.6905+stats.t.ppf(.025, 98)*0.090"
   ]
  },
  {
   "cell_type": "code",
   "execution_count": null,
   "id": "6b545de9",
   "metadata": {},
   "outputs": [],
   "source": []
  }
 ],
 "metadata": {
  "kernelspec": {
   "display_name": "Python 3",
   "language": "python",
   "name": "python3"
  },
  "language_info": {
   "codemirror_mode": {
    "name": "ipython",
    "version": 3
   },
   "file_extension": ".py",
   "mimetype": "text/x-python",
   "name": "python",
   "nbconvert_exporter": "python",
   "pygments_lexer": "ipython3",
   "version": "3.8.8"
  }
 },
 "nbformat": 4,
 "nbformat_minor": 5
}
