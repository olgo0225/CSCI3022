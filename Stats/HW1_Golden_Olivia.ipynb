{
 "cells": [
  {
   "cell_type": "markdown",
   "metadata": {},
   "source": [
    "<a id='top'></a>\n",
    "\n",
    "# CSCI3022 F21\n",
    "# Homework 1: Measures of Centrality and Dispersion\n",
    "***\n",
    "\n",
    "**Name**: Olivia Golden\n",
    "\n",
    "***\n",
    "\n",
    "This assignment is due on Canvas by **MIDNIGHT on Tuesday, September 7**. (NB: most HW will be due on Mondays, but due to Labor Day this is one day later).  Your solutions to theoretical questions should be done in Markdown directly below the associated question.  Your solutions to computational questions should include any specified Python code and results as well as written commentary on your conclusions.  Remember that you are encouraged to discuss the problems with your classmates, but **you must write all code and solutions on your own**.\n",
    "\n",
    "**NOTES**: \n",
    "\n",
    "- Any relevant data sets should be available on Canvas. To make life easier on the graders if they need to run your code, do not change the relative path names here. Instead, move the files around on your computer.\n",
    "- If you're not familiar with typesetting math directly into Markdown then by all means, do your work on paper first and then typeset it later.  Here is a [reference guide](https://math.meta.stackexchange.com/questions/5020/mathjax-basic-tutorial-and-quick-reference) linked on Canvas on writing math in Markdown. **All** of your written commentary, justifications and mathematical work should be in Markdown.  I also recommend the [wikibook](https://en.wikibooks.org/wiki/LaTeX) for LaTex.\n",
    "- Because you can technically evaluate notebook cells is a non-linear order, it's a good idea to do **Kernel $\\rightarrow$ Restart & Run All** as a check before submitting your solutions.  That way if we need to run your code you will know that it will work as expected. \n",
    "- It is **bad form** to make your reader interpret numerical output from your code.  If a question asks you to compute some value from the data you should show your code output **AND** write a summary of the results in Markdown directly below your code. \n",
    "- 45 points of this assignment are in problems.  The remaining 5 are for neatness, style, and overall exposition of both code and text.\n",
    "- This probably goes without saying, but... For any question that asks you to calculate something, you **must show all work and justify your answers to receive credit**. Sparse or nonexistent work will receive sparse or nonexistent credit. \n",
    "\n",
    "---\n",
    "**Shortcuts:**  [Problem 1](#p1) | [Problem 2](#p2) | [Problem 3](#p3) |\n",
    "---"
   ]
  },
  {
   "cell_type": "code",
   "execution_count": 1,
   "metadata": {},
   "outputs": [],
   "source": [
    "import numpy as np\n",
    "import pandas as pd\n",
    "import matplotlib.pylab as plt\n",
    "import statistics as stats\n",
    "%matplotlib inline"
   ]
  },
  {
   "cell_type": "markdown",
   "metadata": {},
   "source": [
    "[Back to top](#top)\n",
    "<a/ id='p1'></a>\n",
    "\n",
    "## (10 pts) Problem 1:Theory (The Minimal Median)\n",
    "***\n",
    "\n",
    "One way we conceptualize many data science questions is asking for the \"best choice\" of some parameter on data set.  We should be able to justify that our measures of centrality should in some way be the \"best\" ways to represent the data.\n",
    "\n",
    "\n",
    "In lecture, we may have discussed the following important property of the mean:\n",
    "\n",
    "\n",
    "The *sample mean* of data $X_1, X_2, \\dots X_n$ is the unique minimizer $c$ of the function $$f(c)=\\sum_{i=1}^n \\left(X_i-c \\right)^2. $$\n",
    "\n",
    "The proof of that claim is as follows:\n",
    "\n",
    "**Proof:**\n",
    "\n",
    "Differentiating yields\n",
    "$$f'(c)=\\frac{df}{dc}\\sum_{i=1}^n \\left(X_i-c \\right)^2 =\\sum_{i=1}^n-2(X_i-c).$$ \n",
    "\n",
    "Setting $f'(c)=0$ gives\n",
    "\n",
    "$$0=\\sum_{i=1}^n-2(X_i-c)$$\n",
    "$$=2nc-2\\sum_{i=1}^n X_i$$\n",
    "$$\\implies\\qquad  c=\\frac{\\sum_{i=1}^n X_i}{n}=\\bar{X}$$\n",
    "\n",
    "***\n",
    "\n",
    "### Your exercise:\n",
    "\n",
    "You are tasked with recreating a *similar* proof.  Prove the following:\n",
    "\n",
    "The *median* of data $X_1, X_2, \\dots X_n$ is the possibly non-unique minimizer $c$ of the function $$f(c)=\\sum_{i=1}^n |X_i-c| $$\n",
    "\n",
    "A few things to think about and **include in your solution**:\n",
    "\n",
    " - how do we differentiate the absolute value function?\n",
    " - what conditions might make the median non-unique in this case?  If it's nonunique, what possible values of $c$ still minimize the function $f$?  This about both how this process looks with different numbers of total points $n$ and if data values are possible identical/repeated."
   ]
  },
  {
   "cell_type": "markdown",
   "metadata": {},
   "source": [
    "**Proof:**\n",
    "\n",
    "$$\\sum_{i=1}^n \\left|X_i-c \\right|$$ can be rewritten as $$\\sum_{i=1}^{j-1} \\left(c-X_i \\right) + \\sum_{i=j}^n \\left(X_i-c \\right)$$ where $$X(j-1) \\leq c \\leq X(j)$$\n",
    "\n",
    "Differentiating yields\n",
    "$$f'(c)=\\frac{df}{dc}(\\sum_{i=1}^{j-1} \\left(c-X_i \\right) + \\sum_{i=j}^n \\left(X_i-c \\right))=\\sum_{i=1}^{j-1} -1 + \\sum_{i=j}^n 1.$$ \n",
    "\n",
    "Setting $f'(c)=0$ gives\n",
    "\n",
    "$$0=-(j-1)+(n+1-j)=-j+1+n+1-j=-2j+2+n$$\n",
    "$$j=\\frac{n+1}{2}$$\n",
    "$$\\implies X(\\frac{n-1}{2}) \\leq c \\leq X(\\frac{n+1}{2})$$\n",
    "\n",
    "If n is even, then the median is not a number that is part of the data set and is on the interval above (non-unique). If $$X(\\frac{n-1}{2})$$ and $$ X(\\frac{n+1}{2})$$ are identical values, even if n is even, then the median is unique.\n",
    "***\n"
   ]
  },
  {
   "cell_type": "markdown",
   "metadata": {},
   "source": [
    "[Back to top](#top)\n",
    "<a/ id='p2'></a>\n",
    "\n",
    "## (15 pts) Problem 2: Theory and Computation (Scaling)\n",
    "***\n",
    "Consider the following 3 data sets:\n",
    "\n",
    "`A=[0,1,2,3,4,5,6,7,8,9,10,11,12,13,14,15]`\n",
    "\n",
    "`B=[112,0,0,12,7,18,0,25,0,13,0,35]`\n",
    "\n",
    "`C` is the random data set generated by using `np.random.gamma(5,1.5,size=37)`\n",
    "\n",
    "For each data set, perform the following operations:\n",
    "\n",
    "**Part A:** Compute and print the mean and standard deviation of the data set."
   ]
  },
  {
   "cell_type": "code",
   "execution_count": 2,
   "metadata": {},
   "outputs": [
    {
     "name": "stdout",
     "output_type": "stream",
     "text": [
      "Mean\n",
      "7.5\n",
      "18.5\n",
      "8.291556591724332\n",
      "\n",
      "SD\n",
      "4.760952285695233\n",
      "31.583942986040466\n",
      "4.775595610448281\n"
     ]
    }
   ],
   "source": [
    "A=[0,1,2,3,4,5,6,7,8,9,10,11,12,13,14,15]\n",
    "B=[112,0,0,12,7,18,0,25,0,13,0,35]\n",
    "C=np.random.gamma(5,1.5,size=37)\n",
    "\n",
    "#calculate mean by summing up set and divinding by length\n",
    "print(\"Mean\")\n",
    "meanA=sum(A)/len(A)\n",
    "meanB=sum(B)/len(B)\n",
    "meanC=sum(C)/len(C)\n",
    "print(meanA)\n",
    "print(meanB)\n",
    "print(meanC)\n",
    "print(\"\")\n",
    "print(\"SD\")\n",
    "#set StdDev sum equal to 0\n",
    "SDA=0\n",
    "SDB=0\n",
    "SDC=0\n",
    "#for each value in the set, subtract the mean, square it, then divide by len of set minus 1\n",
    "for i in range(len(A)):\n",
    "    SDA=SDA+(A[i]-meanA)**2/(len(A)-1)\n",
    "for i in range(len(B)):\n",
    "    SDB=SDB+(B[i]-meanB)**2/(len(B)-1)\n",
    "for i in range(len(C)):\n",
    "    SDC=SDC+(C[i]-meanC)**2/(len(C)-1)\n",
    "#take squareroot of StdDev sum to find StdDev\n",
    "print(SDA**(1/2))\n",
    "print(SDB**(1/2))\n",
    "print(SDC**(1/2))\n"
   ]
  },
  {
   "cell_type": "markdown",
   "metadata": {},
   "source": [
    "**Part B:** Plot frequency histograms of each data set, with the 3 plots stacked vertically (one on top of the other)."
   ]
  },
  {
   "cell_type": "code",
   "execution_count": 3,
   "metadata": {},
   "outputs": [
    {
     "data": {
      "image/png": "[encoded data removed]",
      "text/plain": [
       "<Figure size 432x288 with 1 Axes>"
      ]
     },
     "metadata": {
      "needs_background": "light"
     },
     "output_type": "display_data"
    }
   ],
   "source": [
    "#create stacked histogram \n",
    "plt.hist([A,B,C], stacked=True)\n",
    "plt.show()"
   ]
  },
  {
   "cell_type": "markdown",
   "metadata": {},
   "source": [
    "**Part C:** Form 3 new data sets, $A^*$, $B^*$, and $C^*$.  Create each by subtracting the original means of A, B, and C from each observation in that data set. Compute and print the means and standard deviations of the new data sets."
   ]
  },
  {
   "cell_type": "code",
   "execution_count": 4,
   "metadata": {},
   "outputs": [
    {
     "name": "stdout",
     "output_type": "stream",
     "text": [
      "Mean\n",
      "0.0\n",
      "0.0\n",
      "-6.481301981595508e-16\n",
      "\n",
      "SD\n",
      "4.760952285695233\n",
      "31.583942986040466\n",
      "4.775595610448281\n"
     ]
    }
   ],
   "source": [
    "#create new sets with length of previous sets\n",
    "A2=[0]*len(A)\n",
    "B2=[0]*len(B)\n",
    "C2=[0]*len(C)\n",
    "#for each value in set, subtract mean\n",
    "for i in range(len(A)):\n",
    "    A2[i]=A[i]-meanA\n",
    "for i in range(len(B)):\n",
    "    B2[i]=B[i]-meanB\n",
    "for i in range(len(C)):\n",
    "    C2[i]=C[i]-meanC\n",
    "#calculate mean like above\n",
    "print(\"Mean\")\n",
    "meanA2=sum(A2)/len(A2)\n",
    "meanB2=sum(B2)/len(B2)\n",
    "meanC2=sum(C2)/len(C2)\n",
    "print(meanA2)\n",
    "print(meanB2)\n",
    "print(meanC2)\n",
    "print(\"\")\n",
    "print(\"SD\")\n",
    "#calculate StdDev like above\n",
    "SDA2=0\n",
    "SDB2=0\n",
    "SDC2=0\n",
    "for i in range(len(A2)):\n",
    "    SDA2=SDA2+(A2[i]-meanA2)**2/(len(A2)-1)\n",
    "for i in range(len(B2)):\n",
    "    SDB2=SDB2+(B2[i]-meanB2)**2/(len(B2)-1)\n",
    "for i in range(len(C2)):\n",
    "    SDC2=SDC2+(C2[i]-meanC2)**2/(len(C2)-1)\n",
    "print(SDA2**(1/2))\n",
    "print(SDB2**(1/2))\n",
    "print(SDC2**(1/2))"
   ]
  },
  {
   "cell_type": "markdown",
   "metadata": {},
   "source": [
    "**Part D:** Form 3 new data sets, $\\tilde{A}$, $\\tilde{B}$, and $\\tilde{C}$.  Create each by subtracting the original means of A, B, and C from each observation in that data set and then dividing by the original standard deviation.  Compute and print the means and standard deviations of the new data sets."
   ]
  },
  {
   "cell_type": "code",
   "execution_count": 5,
   "metadata": {},
   "outputs": [
    {
     "name": "stdout",
     "output_type": "stream",
     "text": [
      "Mean\n",
      "-1.0408340855860843e-17\n",
      "-5.782411586589357e-19\n",
      "-2.850572630794321e-17\n",
      "\n",
      "SD\n",
      "0.21004201260420152\n",
      "0.03166165796468104\n",
      "0.209397964478431\n"
     ]
    }
   ],
   "source": [
    "#create new sets of length of previous set\n",
    "A3=[0]*len(A)\n",
    "B3=[0]*len(B)\n",
    "C3=[0]*len(C)\n",
    "for i in range(len(A)):\n",
    "    A3[i]=(A[i]-meanA)/SDA\n",
    "for i in range(len(B)):\n",
    "    B3[i]=(B[i]-meanB)/SDB\n",
    "for i in range(len(C)):\n",
    "    C3[i]=(C[i]-meanC)/SDC\n",
    "#calculate mean like above   \n",
    "print(\"Mean\")\n",
    "meanA3=sum(A3)/len(A3)\n",
    "meanB3=sum(B3)/len(B3)\n",
    "meanC3=sum(C3)/len(C3)\n",
    "print(meanA3)\n",
    "print(meanB3)\n",
    "print(meanC3)\n",
    "print(\"\")\n",
    "print(\"SD\")\n",
    "#calculate StdDev like above\n",
    "SDA3=0\n",
    "SDB3=0\n",
    "SDC3=0\n",
    "for i in range(len(A3)):\n",
    "    SDA3=SDA3+(A3[i]-meanA3)**2/(len(A3)-1)\n",
    "for i in range(len(B3)):\n",
    "    SDB3=SDB3+(B3[i]-meanB3)**2/(len(B3)-1)\n",
    "for i in range(len(C3)):\n",
    "    SDC3=SDC3+(C3[i]-meanC3)**2/(len(C3)-1)\n",
    "print(SDA3**(1/2))\n",
    "print(SDB3**(1/2))\n",
    "print(SDC3**(1/2))"
   ]
  },
  {
   "cell_type": "markdown",
   "metadata": {},
   "source": [
    "**Part E:** Plot density histograms of each $\\tilde{A}$, $\\tilde{B}$, and $\\tilde{C}$, with the 3 plots stacked vertically (one on top of the other).  Ensure that each plot has the same horizontal axis.  "
   ]
  },
  {
   "cell_type": "code",
   "execution_count": 6,
   "metadata": {},
   "outputs": [
    {
     "data": {
      "image/png": "[encoded data removed]",
      "text/plain": [
       "<Figure size 432x288 with 1 Axes>"
      ]
     },
     "metadata": {
      "needs_background": "light"
     },
     "output_type": "display_data"
    }
   ],
   "source": [
    "#create stacked histogram with new sets\n",
    "plt.hist([A3,B3,C3], stacked=True)\n",
    "plt.show()"
   ]
  },
  {
   "cell_type": "markdown",
   "metadata": {},
   "source": [
    "**Part F:** Why might the result in part D matter?"
   ]
  },
  {
   "cell_type": "markdown",
   "metadata": {},
   "source": [
    "The results of part D are the standardized data.\n"
   ]
  },
  {
   "cell_type": "markdown",
   "metadata": {},
   "source": [
    "**Part G:** Looking at each of the 3 original data sets, come up with a real-world context where those numbers might make for reasonable observations."
   ]
  },
  {
   "cell_type": "markdown",
   "metadata": {},
   "source": [
    "Set A could represent someone's age over the course of 15 years. \n",
    "\n",
    "Set B could represent the number of pushups an individual does in a day.\n",
    "\n",
    "Set C could represent the distance away a runner is from a point when running to a point and back.\n"
   ]
  },
  {
   "cell_type": "markdown",
   "metadata": {},
   "source": [
    "[Back to top](#top)\n",
    "<a/ id='p3'></a>\n",
    "\n",
    "## (20 pts) Problem 3: Practice (Titanic)\n",
    "*** \n",
    "The sinking of the RMS Titanic was a terrible tragedy that saw the loss of many lives. Even within this tragedy, thanks to the combinations of the records of the White Star Line and the thorough nature of follow-up research after the accident we have some records that can help us try to piece together the course of events on board the ship. Many of the historians and other researchers who have investigated this event have speculated as to what exactly happened.\n",
    "\n",
    "We have the data on survival rates by class, gender, and age, so let's figure out whether there is evidence for some of these scenarios. Access the Titanic data in `titanic_data.csv` and store it in a Pandas DataFrame. The data contains information pertaining to class status (**Pclass**), survival (**Survived**), and gender (**Sex**) of passengers, among other things. Be sure to use the `titanic_data.csv` data set, *not* the `clean_titanic_data` file or `dirty_titanic_data` file from the in-class notebook exercises."
   ]
  },
  {
   "cell_type": "code",
   "execution_count": 7,
   "metadata": {},
   "outputs": [
    {
     "data": {
      "text/html": [
       "<div>\n",
       "<style scoped>\n",
       "    .dataframe tbody tr th:only-of-type {\n",
       "        vertical-align: middle;\n",
       "    }\n",
       "\n",
       "    .dataframe tbody tr th {\n",
       "        vertical-align: top;\n",
       "    }\n",
       "\n",
       "    .dataframe thead th {\n",
       "        text-align: right;\n",
       "    }\n",
       "</style>\n",
       "<table border=\"1\" class=\"dataframe\">\n",
       "  <thead>\n",
       "    <tr style=\"text-align: right;\">\n",
       "      <th></th>\n",
       "      <th>PassengerId</th>\n",
       "      <th>Survived</th>\n",
       "      <th>Pclass</th>\n",
       "      <th>Name</th>\n",
       "      <th>Sex</th>\n",
       "      <th>Age</th>\n",
       "      <th>SibSp</th>\n",
       "      <th>Parch</th>\n",
       "      <th>Ticket</th>\n",
       "      <th>Fare</th>\n",
       "      <th>Cabin</th>\n",
       "      <th>Embarked</th>\n",
       "    </tr>\n",
       "  </thead>\n",
       "  <tbody>\n",
       "    <tr>\n",
       "      <th>0</th>\n",
       "      <td>1</td>\n",
       "      <td>0</td>\n",
       "      <td>3</td>\n",
       "      <td>Braund, Mr. Owen Harris</td>\n",
       "      <td>male</td>\n",
       "      <td>36.0</td>\n",
       "      <td>1</td>\n",
       "      <td>0</td>\n",
       "      <td>A/5 21171</td>\n",
       "      <td>7.2500</td>\n",
       "      <td>NaN</td>\n",
       "      <td>S</td>\n",
       "    </tr>\n",
       "    <tr>\n",
       "      <th>1</th>\n",
       "      <td>2</td>\n",
       "      <td>1</td>\n",
       "      <td>1</td>\n",
       "      <td>Cumings, Mrs. John Bradley (Florence Briggs Th...</td>\n",
       "      <td>female</td>\n",
       "      <td>18.0</td>\n",
       "      <td>1</td>\n",
       "      <td>0</td>\n",
       "      <td>PC 17599</td>\n",
       "      <td>71.2833</td>\n",
       "      <td>C85</td>\n",
       "      <td>C</td>\n",
       "    </tr>\n",
       "    <tr>\n",
       "      <th>2</th>\n",
       "      <td>3</td>\n",
       "      <td>1</td>\n",
       "      <td>3</td>\n",
       "      <td>Heikkinen, Miss. Laina</td>\n",
       "      <td>female</td>\n",
       "      <td>14.0</td>\n",
       "      <td>0</td>\n",
       "      <td>0</td>\n",
       "      <td>STON/O2. 3101282</td>\n",
       "      <td>7.9250</td>\n",
       "      <td>NaN</td>\n",
       "      <td>S</td>\n",
       "    </tr>\n",
       "    <tr>\n",
       "      <th>3</th>\n",
       "      <td>4</td>\n",
       "      <td>1</td>\n",
       "      <td>1</td>\n",
       "      <td>Futrelle, Mrs. Jacques Heath (Lily May Peel)</td>\n",
       "      <td>female</td>\n",
       "      <td>27.0</td>\n",
       "      <td>1</td>\n",
       "      <td>0</td>\n",
       "      <td>113803</td>\n",
       "      <td>53.1000</td>\n",
       "      <td>C123</td>\n",
       "      <td>S</td>\n",
       "    </tr>\n",
       "    <tr>\n",
       "      <th>4</th>\n",
       "      <td>5</td>\n",
       "      <td>0</td>\n",
       "      <td>3</td>\n",
       "      <td>Allen, Mr. William Henry</td>\n",
       "      <td>male</td>\n",
       "      <td>63.0</td>\n",
       "      <td>0</td>\n",
       "      <td>0</td>\n",
       "      <td>373450</td>\n",
       "      <td>8.0500</td>\n",
       "      <td>NaN</td>\n",
       "      <td>S</td>\n",
       "    </tr>\n",
       "  </tbody>\n",
       "</table>\n",
       "</div>"
      ],
      "text/plain": [
       "   PassengerId  Survived  Pclass  \\\n",
       "0            1         0       3   \n",
       "1            2         1       1   \n",
       "2            3         1       3   \n",
       "3            4         1       1   \n",
       "4            5         0       3   \n",
       "\n",
       "                                                Name     Sex   Age  SibSp  \\\n",
       "0                            Braund, Mr. Owen Harris    male  36.0      1   \n",
       "1  Cumings, Mrs. John Bradley (Florence Briggs Th...  female  18.0      1   \n",
       "2                             Heikkinen, Miss. Laina  female  14.0      0   \n",
       "3       Futrelle, Mrs. Jacques Heath (Lily May Peel)  female  27.0      1   \n",
       "4                           Allen, Mr. William Henry    male  63.0      0   \n",
       "\n",
       "   Parch            Ticket     Fare Cabin Embarked  \n",
       "0      0         A/5 21171   7.2500   NaN        S  \n",
       "1      0          PC 17599  71.2833   C85        C  \n",
       "2      0  STON/O2. 3101282   7.9250   NaN        S  \n",
       "3      0            113803  53.1000  C123        S  \n",
       "4      0            373450   8.0500   NaN        S  "
      ]
     },
     "execution_count": 7,
     "metadata": {},
     "output_type": "execute_result"
    }
   ],
   "source": [
    "filepath = 'titanic_data.csv'\n",
    "df = pd.read_csv(filepath)\n",
    "df.head()"
   ]
  },
  {
   "cell_type": "markdown",
   "metadata": {},
   "source": [
    "**Part A**:\n",
    "Based on the overall population of passengers, report the proportion that survived.\n",
    "\n",
    "$$P(Survived=1)$$"
   ]
  },
  {
   "cell_type": "code",
   "execution_count": 8,
   "metadata": {},
   "outputs": [
    {
     "name": "stdout",
     "output_type": "stream",
     "text": [
      "0.39281705948372614\n"
     ]
    }
   ],
   "source": [
    "#sum from dataframe where Survived is true (equal to 1)\n",
    "people_survived = df[\"Survived\"].sum()\n",
    "#get total number of passengers\n",
    "passengers=df.shape[0]\n",
    "print(people_survived/passengers)"
   ]
  },
  {
   "cell_type": "markdown",
   "metadata": {},
   "source": [
    "**Part B**: \n",
    "Some claim that the final hours aboard the RMS Titanic were marked by \"class warfare\" in which the people with first-class tickets took all the good spots on the lifeboats; others claim that the final hours were characterized by male chivalry, in which the men valiantly gave up their positions in the boats and succumbed bravely to the depths of the Atlantic. \n",
    "\n",
    "Consider the two claims: class warfare, and male chivalry. Suppose that class warfare occurred in the final hours aboard the Titanic.  What patterns might you expect to see in the data?  Suppose that male chivalry was widespread during the final hours instead. What patterns might you then expect to see in the data?  Explain both of these hypothesized patterns in words. Are these two hypotheses mutually exclusive or not?"
   ]
  },
  {
   "cell_type": "markdown",
   "metadata": {},
   "source": [
    "If the class warfare occured during the final hours aboard the Titanic, the survivial rate in first-class should be high and the surivival rate in the lower classes should be low.  If male chivarly was widespread during the final hours instead, then the survivial rate of women and children would be much higher than the survival rate of men. \n",
    "\n",
    "The two events are not mutually exclusive. Even though the chivalry is widespread, it is reasonable to assume that higher classes show more chivalry than lower classes.\n"
   ]
  },
  {
   "cell_type": "markdown",
   "metadata": {},
   "source": [
    "**Part C**: Use Pandas methods to create a clean data set by removing any rows from the DataFrame that are missing values corresponding to **Survived**, **Pclass**, **Age**, or **Sex**. Store the clean data in a DataFrame called dfTitanic. Be sure to show any exploratory work determining if/where there are rows with missing values. _HINT: There should be 714 rows in your cleaned data set._"
   ]
  },
  {
   "cell_type": "code",
   "execution_count": 9,
   "metadata": {},
   "outputs": [
    {
     "name": "stdout",
     "output_type": "stream",
     "text": [
      "<class 'pandas.core.frame.DataFrame'>\n",
      "Int64Index: 714 entries, 0 to 888\n",
      "Data columns (total 12 columns):\n",
      " #   Column       Non-Null Count  Dtype  \n",
      "---  ------       --------------  -----  \n",
      " 0   PassengerId  714 non-null    int64  \n",
      " 1   Survived     714 non-null    int64  \n",
      " 2   Pclass       714 non-null    int64  \n",
      " 3   Name         714 non-null    object \n",
      " 4   Sex          714 non-null    object \n",
      " 5   Age          714 non-null    float64\n",
      " 6   SibSp        714 non-null    int64  \n",
      " 7   Parch        714 non-null    int64  \n",
      " 8   Ticket       714 non-null    object \n",
      " 9   Fare         714 non-null    float64\n",
      " 10  Cabin        165 non-null    object \n",
      " 11  Embarked     713 non-null    object \n",
      "dtypes: float64(2), int64(5), object(5)\n",
      "memory usage: 72.5+ KB\n"
     ]
    }
   ],
   "source": [
    "#create new dataframe from old dataframe where Survived, Pclass, Age, and Sex are not NULL\n",
    "dfTitanic=df.dropna(subset=['Survived', 'Pclass', 'Age', 'Sex'])\n",
    "#display information of new data set\n",
    "dfTitanic.info()"
   ]
  },
  {
   "cell_type": "markdown",
   "metadata": {},
   "source": [
    "**Part D**: Compute the probability of survival of both men and women.  Then, compute the probability of survival of passengers in each of the 3 passenger classes.  Finally, compute the probabilities of survival and men and women *within* each passenger class (all 6 subsets).  Then, answer the following questions:\n",
    "* **(i)** When reviewing class survival probability, how do the results compare to the base survival probability results from **Part A**?\n",
    "* **(ii)** When reviewing gender survival probability, how do the results compare to the base survival probability results from **Part A**?\n",
    "* **(iii)** Within each passenger class, were men or women more/less/equally likely to survive?\n",
    "* **(iv)**  Did men in first class or women in third class have a higher survival probability?\n"
   ]
  },
  {
   "cell_type": "code",
   "execution_count": 10,
   "metadata": {},
   "outputs": [
    {
     "name": "stdout",
     "output_type": "stream",
     "text": [
      "Probability of surivial in men:\n",
      "0.1975736568457539\n",
      "Probability of surivial in women:\n",
      "0.7515923566878981\n",
      "Probability of surivial in 1st class:\n",
      "0.6342592592592593\n",
      "Probability of surivial in 2nd class:\n",
      "0.4891304347826087\n",
      "Probability of surivial in 3rd class:\n",
      "0.2505091649694501\n",
      "Probability of surivial in 1st class as a male:\n",
      "0.3770491803278688\n",
      "Probability of surivial in 2nd class as a male:\n",
      "0.17592592592592593\n",
      "Probability of surivial in 3rd class as a male:\n",
      "0.14121037463976946\n",
      "Probability of surivial in 1st class as a female:\n",
      "0.9680851063829787\n",
      "Probability of surivial in 2nd class as a female:\n",
      "0.9342105263157895\n",
      "Probability of surivial in 3rd class as a female:\n",
      "0.5138888888888888\n"
     ]
    }
   ],
   "source": [
    "#access data of males\n",
    "males = df.loc[df[\"Sex\"]=='male']\n",
    "print(\"Probability of surivial in men:\")\n",
    "#sum up survived from males and divide by total males\n",
    "print((males[\"Survived\"].sum())/males.shape[0])\n",
    "#repeat for females\n",
    "females = df.loc[df[\"Sex\"]=='female']\n",
    "print(\"Probability of surivial in women:\")\n",
    "print((females[\"Survived\"].sum())/females.shape[0])\n",
    "###\n",
    "#repeat for 1st class passengeres\n",
    "first_class = df.loc[df[\"Pclass\"]==1]\n",
    "print(\"Probability of surivial in 1st class:\")\n",
    "print((first_class[\"Survived\"].sum())/first_class.shape[0])\n",
    "#repeat for 2nd class passengers\n",
    "second_class = df.loc[df[\"Pclass\"]==2]\n",
    "print(\"Probability of surivial in 2nd class:\")\n",
    "print((second_class[\"Survived\"].sum())/second_class.shape[0])\n",
    "#repreat for 3rd class passenegers\n",
    "third_class = df.loc[df[\"Pclass\"]==3]\n",
    "print(\"Probability of surivial in 3rd class:\")\n",
    "print((third_class[\"Survived\"].sum())/third_class.shape[0])\n",
    "###\n",
    "#access data of males in 1st class\n",
    "first_class_male=df.loc[(df[\"Sex\"] == 'male') & (df[\"Pclass\"] == 1)]\n",
    "print(\"Probability of surivial in 1st class as a male:\")\n",
    "#sum up survived for males in first class and divide by total number\n",
    "print((first_class_male['Survived'].sum())/first_class_male.shape[0])\n",
    "#repreat for males in 2nd class\n",
    "second_class_male=df.loc[(df[\"Sex\"] == 'male') & (df[\"Pclass\"] == 2)]\n",
    "print(\"Probability of surivial in 2nd class as a male:\")\n",
    "print((second_class_male['Survived'].sum())/second_class_male.shape[0])\n",
    "#repeat for males in 3rd class\n",
    "third_class_male=df.loc[(df[\"Sex\"] == 'male') & (df[\"Pclass\"] == 3)]\n",
    "print(\"Probability of surivial in 3rd class as a male:\")\n",
    "print((third_class_male['Survived'].sum())/third_class_male.shape[0])\n",
    "###\n",
    "#repeat for females in 1st class\n",
    "first_class_female=df.loc[(df[\"Sex\"] == 'female') & (df[\"Pclass\"] == 1)]\n",
    "print(\"Probability of surivial in 1st class as a female:\")\n",
    "print((first_class_female['Survived'].sum())/first_class_female.shape[0])\n",
    "#repeat for females in 2nd class\n",
    "second_class_female=df.loc[(df[\"Sex\"] == 'female') & (df[\"Pclass\"] == 2)]\n",
    "print(\"Probability of surivial in 2nd class as a female:\")\n",
    "print((second_class_female['Survived'].sum())/second_class_female.shape[0])\n",
    "#repeat for females in 3rd class\n",
    "third_class_female=df.loc[(df[\"Sex\"] == 'female') & (df[\"Pclass\"] == 3)]\n",
    "print(\"Probability of surivial in 3rd class as a female:\")\n",
    "print((third_class_female['Survived'].sum())/third_class_female.shape[0])\n"
   ]
  },
  {
   "cell_type": "markdown",
   "metadata": {},
   "source": [
    "i) The closest result to part A is the probability of surivial in males in 1st class.  There are a few probabilities that are very high compared to Part A like the probiablity of surving as a female in both first and second class.  There are also a few that are much lower than part A like the probaiblity of survival as a male in 2nd and 3rd class.\n",
    "\n",
    "ii) Females have a much higher probability of survivial than the base survival results, and males have a much lower probability. \n",
    "\n",
    "iii) In every class, females were more likely to survive. \n",
    "\n",
    "iv) Women in third class were more likely to survive than males in first class. "
   ]
  },
  {
   "cell_type": "markdown",
   "metadata": {},
   "source": [
    "**Part E**: One might wonder how a passenger's age is related to the likelihood that they would survive the Titanic disaster. In addition to the \"male chivalry\" argument outlined above, you can perhaps imagine an addendum - \"women and children first!\" - as the cry to ring out across the decks. Or you might imagine the opposite - rather than \"class warfare\", it is simply healthy adults fighting to take lifeboat spots for themselves.\n",
    "\n",
    "To answer this question graphically, plot two density histograms on the *same set* of axes, showing the distribution of the ages of passengers who survived, and the distribution of the ages of passengers who did not.  This means that the two axes should overlap. \n",
    "* Use the bin edges $[0,4,8,\\ldots,72,76,80]$ for both histograms.\n",
    "* To better distinguish between our populations, we will represent survivors with `darkgreen` and the passed with `red`.\n",
    "* As you plot both histograms on a single set of axes you should use Matplotlib/Pandas plotting functionality to make the faces of the histogram boxes somewhat transparent, so both histograms are visible and their overlap becomes a blend of the two colors.\n",
    "* Include a legend and label your axes.\n",
    "* Comment on the results. Does your figure suggest that some age ranges are more or less likely to have survived the disaster than other ages? Fully explain your reasoning and use your figure to justify your conclusions.\n",
    "* If you noticed some relationship between age and likelihood of survival, what is one possible explanation?"
   ]
  },
  {
   "cell_type": "code",
   "execution_count": 11,
   "metadata": {},
   "outputs": [
    {
     "data": {
      "image/png": "[encoded data removed]",
      "text/plain": [
       "<Figure size 432x288 with 1 Axes>"
      ]
     },
     "metadata": {
      "needs_background": "light"
     },
     "output_type": "display_data"
    }
   ],
   "source": [
    "#access those that survived titanic from new dataframe\n",
    "age1=dfTitanic.loc[dfTitanic['Survived']]\n",
    "#access age \n",
    "age_survived=age1.Age\n",
    "#plot on histogram with some transparancy\n",
    "plt.hist(age_survived, 4, [0, 80], 'density', color='darkgreen', label='Survived', alpha = 0.5)\n",
    "#access those that did not survive titanic from new dataframe\n",
    "age2=dfTitanic.loc[dfTitanic['Survived']==0]\n",
    "#access age\n",
    "age_not_survived=age2.Age\n",
    "#plot on histogram with some transparancy\n",
    "plt.hist(age_not_survived, 4, [0, 80], 'density', color='red', label=\"Deceased\", alpha = 0.5)\n",
    "plt.xlabel('Age (yrs)')\n",
    "plt.ylabel('Density')\n",
    "plt.legend()\n",
    "plt.show()\n"
   ]
  },
  {
   "cell_type": "markdown",
   "metadata": {},
   "source": [
    "No one above 40 survived, and even though deceased passengers under 20 had a lower density, those survived passengers between 20 and 40 had a higher density.  One possible explination for this is that children were put first on life boats.  It is also possible that those above 40 had a harder time moving/reacting quickly, lowering their chances of survival."
   ]
  },
  {
   "cell_type": "markdown",
   "metadata": {},
   "source": [
    "**Part F:** In Part E, we plotted two *density* histograms, showing the distributions of ages of passengers that survived or did not survive the Titanic disaster. Why would it be misleading for us to have plotted these as *frequency* histograms instead?"
   ]
  },
  {
   "cell_type": "markdown",
   "metadata": {},
   "source": [
    "A density diagram is a better choice since it analyzes the porportion, not the count. We can assume that fewer 80 year olds were on the Titanic than other ages, so a frequency graph would make it hard to accuratley compare the seperate groups.\n"
   ]
  },
  {
   "cell_type": "markdown",
   "metadata": {},
   "source": [
    "**Part G**: Do the data suggest class warfare, male chivalry, age bias, or some combination of these characteristics in the final hours aboard the Titanic?  Justify your conclusions based on the computations done above, or do any other analysis that you like, but be sure to clearly justify your conclusions."
   ]
  },
  {
   "cell_type": "markdown",
   "metadata": {},
   "source": [
    "The data suggests a combination of class warfare, male chivalry, and age bias.  No one over 40 survived, the rate for survival of men was significantly lower than women, and the higher classes had a much higher chance of survivial than the lower classes.\n"
   ]
  },
  {
   "cell_type": "markdown",
   "metadata": {},
   "source": [
    "**Part H**: In lecture we described some types of sampling from a *sample frame*.  Perform the following operations:\n",
    "\n",
    "1) Since the overall ship had around 65% men, create a *sample* of distinct passengers from the overall ship that consists of exactly 13 randomly chosen men and 7 randomly chosen women.  Report the proportion of those passengers that survived.\n",
    "\n",
    "2) Repeat the sampling process from part 1) 1000 times.  Report the **mean** survival proportion of those 1000 samples.  Is this close to the survival rate in part A?  Why or why not?\n",
    "\n",
    "3) Make a histogram of the 1000 sample means from parth H2.  Include an indicator of the mean your computed in H2 on the histogram.\n",
    "\n",
    "4) What is the name for this sort of sample?\n"
   ]
  },
  {
   "cell_type": "code",
   "execution_count": 12,
   "metadata": {},
   "outputs": [
    {
     "name": "stdout",
     "output_type": "stream",
     "text": [
      "Male survival\n",
      "0.15384615384615385\n",
      "Female survival\n",
      "0.7142857142857143\n",
      "Mean\n",
      "0.47601648351648457\n"
     ]
    },
    {
     "data": {
      "image/png": "[encoded data removed]",
      "text/plain": [
       "<Figure size 432x288 with 1 Axes>"
      ]
     },
     "metadata": {
      "needs_background": "light"
     },
     "output_type": "display_data"
    }
   ],
   "source": [
    "#get sample from previous 'males' of size 13\n",
    "male_sample=males.sample(n=13)\n",
    "print(\"Male survival\")\n",
    "#compute porportion\n",
    "print((male_sample[\"Survived\"].sum())/male_sample.shape[0])\n",
    "#get sample from previous 'females' of size 7\n",
    "female_sample=females.sample(n=7)\n",
    "print(\"Female survival\")\n",
    "#compute probaility\n",
    "print((female_sample[\"Survived\"].sum())/female_sample.shape[0])\n",
    "\n",
    "#create sample array\n",
    "sample=[]\n",
    "#repeat above 1000 times\n",
    "for i in range(1000):\n",
    "    male_sample=males.sample(n=13)\n",
    "    sample.append(male_sample[\"Survived\"].sum()/male_sample.shape[0])\n",
    "    female_sample=females.sample(n=7)\n",
    "    sample.append((female_sample[\"Survived\"].sum())/female_sample.shape[0])\n",
    "    \n",
    "print(\"Mean\")\n",
    "#compute mean\n",
    "mean_sample=sum(sample)/len(sample)\n",
    "print(mean_sample)\n",
    "plt.hist(sample)\n",
    "#add indicator of mean\n",
    "plt.axvline(x=mean_sample, linewidth=3.0, color='red', label='mean')\n",
    "plt.legend()\n",
    "plt.show()"
   ]
  },
  {
   "cell_type": "markdown",
   "metadata": {},
   "source": [
    "2) The mean is about 8% off of the mean from part A.  I think this is because some of the randomly selected data could have been repeated, given different results.  \n",
    "\n",
    "3) This sample is called a stratified sample, since the data is seperated into homogenous groups and then porportioned based on the prevelance. \n"
   ]
  },
  {
   "cell_type": "code",
   "execution_count": null,
   "metadata": {},
   "outputs": [],
   "source": []
  }
 ],
 "metadata": {
  "kernelspec": {
   "display_name": "Python 3",
   "language": "python",
   "name": "python3"
  },
  "language_info": {
   "codemirror_mode": {
    "name": "ipython",
    "version": 3
   },
   "file_extension": ".py",
   "mimetype": "text/x-python",
   "name": "python",
   "nbconvert_exporter": "python",
   "pygments_lexer": "ipython3",
   "version": "3.8.8"
  }
 },
 "nbformat": 4,
 "nbformat_minor": 2
}
