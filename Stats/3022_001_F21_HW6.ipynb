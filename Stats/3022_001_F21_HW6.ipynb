{
 "cells": [
  {
   "cell_type": "markdown",
   "metadata": {},
   "source": [
    "<a id='top'></a>\n",
    "\n",
    "# CSCI3022 F21\n",
    "# Homework 6: Confidence Intervals and Multiple Testing\n",
    "***\n",
    "\n",
    "**Name**: Olivia Golden\n",
    "\n",
    "***\n",
    "\n",
    "This assignment is due on Canvas (as .ipynb) and Gradescope (as a .pdf) by **MIDNIGHT on Mon 1 Nov**. Your solutions to theoretical questions should be done in Markdown directly below the associated question.  Your solutions to computational questions should include any specified Python code and results as well as written commentary on your conclusions.  Remember that you are encouraged to discuss the problems with your classmates, but **you must write all code and solutions on your own**.\n",
    "\n",
    "**NOTES**: \n",
    "\n",
    "- Any relevant data sets should be available on Canvas. To make life easier on the graders if they need to run your code, do not change the relative path names here. Instead, move the files around on your computer.\n",
    "- If you're not familiar with typesetting math directly into Markdown then by all means, do your work on paper first and then typeset it later.  Here is a [reference guide](https://math.meta.stackexchange.com/questions/5020/mathjax-basic-tutorial-and-quick-reference) linked on Canvas on writing math in Markdown. **All** of your written commentary, justifications and mathematical work should be in Markdown.  I also recommend the [wikibook](https://en.wikibooks.org/wiki/LaTeX) for LaTex.\n",
    "- Because you can technically evaluate notebook cells is a non-linear order, it's a good idea to do **Kernel $\\rightarrow$ Restart & Run All** as a check before submitting your solutions.  That way if we need to run your code you will know that it will work as expected. \n",
    "- It is **bad form** to make your reader interpret numerical output from your code.  If a question asks you to compute some value from the data you should show your code output **AND** write a summary of the results in Markdown directly below your code. \n",
    "- 45 points of this assignment are in problems.  The remaining 5 are for neatness, style, and overall exposition of both code and text.\n",
    "- This probably goes without saying, but... For any question that asks you to calculate something, you **must show all work and justify your answers to receive credit**. Sparse or nonexistent work will receive sparse or nonexistent credit. \n",
    "\n",
    "---\n",
    "**Shortcuts:**  [Problem 1](#p1) | [Problem 2](#p2) | [Problem 3](#p3) |\n",
    "---"
   ]
  },
  {
   "cell_type": "code",
   "execution_count": 1,
   "metadata": {},
   "outputs": [],
   "source": [
    "import numpy as np\n",
    "import pandas as pd\n",
    "import matplotlib.pylab as plt\n",
    "import scipy.stats as stats\n",
    "import itertools #for looping, if desired\n",
    "%matplotlib inline"
   ]
  },
  {
   "cell_type": "markdown",
   "metadata": {},
   "source": [
    "[Back to top](#top)\n",
    "<a/ id='p1'></a>\n",
    "\n",
    "## (10 pts) Problem 1: Confidence Interval Theory\n",
    "\n",
    "**Part A** (3 pts):\n",
    "In general, which is wider: a 95% confidence interval or a 99% confidence interval? How would you explain this to your younger sibling, who is not a statistician?   Use **plain English**."
   ]
  },
  {
   "cell_type": "markdown",
   "metadata": {},
   "source": [
    "99% confidence interval is larger.  The larger the interval, the more likely it is to hold the value.  Following this logic, if we are 99% sure that the value is in the interval, than it will be a larger interval that if we were only 95% certain."
   ]
  },
  {
   "cell_type": "markdown",
   "metadata": {},
   "source": [
    "**Part B** (3 pts):\n",
    "\n",
    "Let $X_1, X_2, \\dots X_n$ be independent and identically distributed sample from a normal random variable $N(\\mu,1)$.\n",
    "\n",
    "\n",
    "As you've seen, A 95% confidence interval for $\\mu$ is $\\bar{x} \\pm 1.96 \\cdot \\frac{1}{\\sqrt{n}}$.\n",
    "\n",
    "Let $p$ denote the probability that an *additional* (or new) independent observation falls within this confidence interval. Is $p$ greater than, less than, or equal to 0.95? Justify your answer with both intuition and a formal mathematical statement."
   ]
  },
  {
   "cell_type": "markdown",
   "metadata": {},
   "source": [
    "$P(\\bar{X_n}-\\frac{1.96}{\\sqrt{n}}\\leq X_{n+1} \\leq \\bar{X_n}+\\frac{1.96}{\\sqrt{n}})=P(\\frac{|X_{n+1}-\\bar{X_n}|}{\\sqrt{1+\\frac{1}{n}}}\\leq \\frac{1.96}{\\sqrt{n+1}})=2\\phi(\\frac{1.96}{\\sqrt{n+1}})-1<2\\phi(1.96)-1=.95$"
   ]
  },
  {
   "cell_type": "markdown",
   "metadata": {},
   "source": [
    "p<.95\n",
    "\n",
    "This makes sense since the variance of the distribution of $X_{n+1}-\\bar{X}$ is greater than the variance of $\\bar{X}-\\theta$ and so the probaiblity of being on the same interval is less."
   ]
  },
  {
   "cell_type": "markdown",
   "metadata": {},
   "source": [
    "**Part C** (4 pts):\n",
    "Suppose that 14 people in a sample of 91 are found to be smokers. Calculate the 90% confidence interval for the true proportion of smokers in the population from which this sample originated. Interpret this interval in a plain English sentence."
   ]
  },
  {
   "cell_type": "markdown",
   "metadata": {},
   "source": [
    "$\\frac{14}{91}\\pm 1.645(\\sqrt{\\frac{\\frac{14}{91}(1-\\frac{14}{91})}{91}})=\\frac{14}{91}\\pm 0.06221$\n",
    "\n",
    "This means that we are 90% confident that the true proportion of smokers in the population from which this sample originated is on the interval $\\frac{14}{91}\\pm 0.06221$."
   ]
  },
  {
   "cell_type": "markdown",
   "metadata": {},
   "source": [
    "[Back to top](#top)\n",
    "<a/ id='p2'></a>\n",
    "\n",
    "## (20 pts) Problem 2: Using Confidence Intervals (Data)\n"
   ]
  },
  {
   "cell_type": "markdown",
   "metadata": {},
   "source": [
    "Below is one of the most famous datasets in machine learning, the Iris Flower data set gathered by Edgar Anderson to measure physical characterstics of 3 variants of Iris.  It was initially popularized by statistician Ronald Fisher and is regularly used in validating and testing different forms of data science algorithms.  In each case, we're usually interested in determining: can we use the properties in the data set\n",
    "\n",
    "1) sepal length (cm)\n",
    "\n",
    "2) sepal width (cm)\n",
    "\n",
    "3) petal length (cm)\n",
    "\n",
    "4) petal width (cm)\n",
    "\n",
    "to predict or describe **which** flower (in the `target` column) belongs to which group.\n",
    "\n",
    "...we aren't going to do prediction yet.\n",
    "\n",
    "We will instead use confidence intervals for the means of each of the 4 measurements for each of the 3 flower types and see if we can *detect* that the flowers have different mean values for each measurement. "
   ]
  },
  {
   "cell_type": "code",
   "execution_count": 2,
   "metadata": {},
   "outputs": [
    {
     "data": {
      "text/html": [
       "<div>\n",
       "<style scoped>\n",
       "    .dataframe tbody tr th:only-of-type {\n",
       "        vertical-align: middle;\n",
       "    }\n",
       "\n",
       "    .dataframe tbody tr th {\n",
       "        vertical-align: top;\n",
       "    }\n",
       "\n",
       "    .dataframe thead th {\n",
       "        text-align: right;\n",
       "    }\n",
       "</style>\n",
       "<table border=\"1\" class=\"dataframe\">\n",
       "  <thead>\n",
       "    <tr style=\"text-align: right;\">\n",
       "      <th></th>\n",
       "      <th>sepal length (cm)</th>\n",
       "      <th>sepal width (cm)</th>\n",
       "      <th>petal length (cm)</th>\n",
       "      <th>petal width (cm)</th>\n",
       "      <th>target</th>\n",
       "    </tr>\n",
       "  </thead>\n",
       "  <tbody>\n",
       "    <tr>\n",
       "      <th>0</th>\n",
       "      <td>5.1</td>\n",
       "      <td>3.5</td>\n",
       "      <td>1.4</td>\n",
       "      <td>0.2</td>\n",
       "      <td>0</td>\n",
       "    </tr>\n",
       "    <tr>\n",
       "      <th>1</th>\n",
       "      <td>4.9</td>\n",
       "      <td>3.0</td>\n",
       "      <td>1.4</td>\n",
       "      <td>0.2</td>\n",
       "      <td>0</td>\n",
       "    </tr>\n",
       "    <tr>\n",
       "      <th>2</th>\n",
       "      <td>4.7</td>\n",
       "      <td>3.2</td>\n",
       "      <td>1.3</td>\n",
       "      <td>0.2</td>\n",
       "      <td>0</td>\n",
       "    </tr>\n",
       "    <tr>\n",
       "      <th>3</th>\n",
       "      <td>4.6</td>\n",
       "      <td>3.1</td>\n",
       "      <td>1.5</td>\n",
       "      <td>0.2</td>\n",
       "      <td>0</td>\n",
       "    </tr>\n",
       "    <tr>\n",
       "      <th>4</th>\n",
       "      <td>5.0</td>\n",
       "      <td>3.6</td>\n",
       "      <td>1.4</td>\n",
       "      <td>0.2</td>\n",
       "      <td>0</td>\n",
       "    </tr>\n",
       "  </tbody>\n",
       "</table>\n",
       "</div>"
      ],
      "text/plain": [
       "   sepal length (cm)  sepal width (cm)  petal length (cm)  petal width (cm)  \\\n",
       "0                5.1               3.5                1.4               0.2   \n",
       "1                4.9               3.0                1.4               0.2   \n",
       "2                4.7               3.2                1.3               0.2   \n",
       "3                4.6               3.1                1.5               0.2   \n",
       "4                5.0               3.6                1.4               0.2   \n",
       "\n",
       "   target  \n",
       "0       0  \n",
       "1       0  \n",
       "2       0  \n",
       "3       0  \n",
       "4       0  "
      ]
     },
     "execution_count": 2,
     "metadata": {},
     "output_type": "execute_result"
    }
   ],
   "source": [
    "from sklearn.datasets import load_iris\n",
    "#With a recent install of sklearn and pandas, this line will make your data frame\n",
    "df = load_iris(as_frame=True)['frame']\n",
    "\n",
    "#NOTE: if using an older version of python/SKL, you may need to run these instead:\n",
    "# dat = load_iris()\n",
    "# df = pd.DataFrame(data=dat.data, columns=dat.feature_names)\n",
    "# df['target']=dat.target\n",
    "df.head()\n"
   ]
  },
  {
   "cell_type": "markdown",
   "metadata": {},
   "source": [
    "**Part A:**\n",
    "Create a table of comparisons that hold the confidence intervals for the difference in means $\\mu_A-\\mu_B$ across each measurement for each pair of flowers.  In other words, fill in the following table:\n",
    "\n",
    "|CI: | $\\mu_0$ vs. $\\mu_1$ | $\\mu_0$ vs. $\\mu_2$ | $\\mu_1$ vs. $\\mu_2$ |\n",
    "| --- | --- | --- | --- |\n",
    "|sepal length | $-.93\\pm0.17151$ |$-1.59\\pm0.19949$|$-0.65\\pm0.2247$ |\n",
    "|sepal width | $0.658\\pm0.13502$| $0.454\\pm0.13656$ |$-0.20\\pm0.1235$ |\n",
    "|petal length | $-2.79\\pm0.13746$ | $-4.09\\pm0.15875$| $-0.652\\pm0.19889$  |\n",
    "|petal width | $-1.08\\pm0.06148$ | $-1.78\\pm0.08071$  | $-0.204\\pm0.09286$  |\n",
    "\n"
   ]
  },
  {
   "cell_type": "code",
   "execution_count": 3,
   "metadata": {
    "scrolled": false
   },
   "outputs": [
    {
     "name": "stdout",
     "output_type": "stream",
     "text": [
      "Values for Sepal Length\n",
      "-0.9300000000000006\n",
      "50\n",
      "50\n",
      "0.348946987377739 0.5109833656783752\n",
      "\n",
      "-1.581999999999999\n",
      "50\n",
      "50\n",
      "0.348946987377739 0.6294886813914925\n",
      "\n",
      "-0.6519999999999984\n",
      "50\n",
      "50\n",
      "0.5109833656783752 0.6294886813914925\n",
      "\n",
      "Values for Sepal Width\n",
      "0.6580000000000004\n",
      "0.3752545802518604 0.31064449134018135\n",
      "\n",
      "0.45400000000000107\n",
      "0.3752545802518604 0.319255383666431\n",
      "\n",
      "-0.2039999999999993\n",
      "0.31064449134018135 0.319255383666431\n",
      "\n",
      "Values for Petal Length\n",
      "-2.7979999999999996\n",
      "0.17191858538273286 0.4651881339845204\n",
      "\n",
      "-4.09\n",
      "0.17191858538273286 0.5463478745268441\n",
      "\n",
      "-0.6519999999999984\n",
      "0.4651881339845204 0.5463478745268441\n",
      "\n",
      "Values for Petal Width\n",
      "-1.0799999999999998\n",
      "0.10432641084595984 0.19576516544063702\n",
      "\n",
      "-1.7799999999999998\n",
      "0.10432641084595984 0.2718896835115301\n",
      "\n",
      "-0.2039999999999993\n",
      "0.19576516544063702 0.2718896835115301\n",
      "\n"
     ]
    }
   ],
   "source": [
    "average0_sepalL=np.mean(df.loc[df['target']==0]['sepal length (cm)']) #calculate mean values for each target sepal length\n",
    "average1_sepalL=np.mean(df.loc[df['target']==1]['sepal length (cm)'])\n",
    "average2_sepalL=np.mean(df.loc[df['target']==2]['sepal length (cm)'])\n",
    "\n",
    "SD0_sepalL=np.std(df.loc[df['target']==0]['sepal length (cm)']) #calculate SD values for each target sepal length\n",
    "SD1_sepalL=np.std(df.loc[df['target']==1]['sepal length (cm)'])\n",
    "SD2_sepalL=np.std(df.loc[df['target']==2]['sepal length (cm)'])\n",
    "\n",
    "print('Values for Sepal Length') #print values needed for CI\n",
    "print(average0_sepalL-average1_sepalL)\n",
    "print(df.loc[df['target']==0].shape[0])\n",
    "print(df.loc[df['target']==1].shape[0])\n",
    "print(SD0_sepalL, SD1_sepalL)\n",
    "print(\"\")\n",
    "print(average0_sepalL-average2_sepalL)\n",
    "print(df.loc[df['target']==0].shape[0])\n",
    "print(df.loc[df['target']==2].shape[0])\n",
    "print(SD0_sepalL, SD2_sepalL)\n",
    "print(\"\")\n",
    "print(average1_sepalL-average2_sepalL)\n",
    "print(df.loc[df['target']==1].shape[0])\n",
    "print(df.loc[df['target']==2].shape[0])\n",
    "print(SD1_sepalL, SD2_sepalL)\n",
    "print(\"\")\n",
    "\n",
    "average0_sepalW=np.mean(df.loc[df['target']==0]['sepal width (cm)']) #calculate mean values for each target sepal width\n",
    "average1_sepalW=np.mean(df.loc[df['target']==1]['sepal width (cm)'])\n",
    "average2_sepalW=np.mean(df.loc[df['target']==2]['sepal width (cm)'])\n",
    "\n",
    "SD0_sepalW=np.std(df.loc[df['target']==0]['sepal width (cm)']) #calculate SD values for each target sepal width\n",
    "SD1_sepalW=np.std(df.loc[df['target']==1]['sepal width (cm)'])\n",
    "SD2_sepalW=np.std(df.loc[df['target']==2]['sepal width (cm)'])\n",
    "\n",
    "print(\"Values for Sepal Width\")\n",
    "print(average0_sepalW-average1_sepalW)\n",
    "\n",
    "print(SD0_sepalW, SD1_sepalW)\n",
    "print(\"\")\n",
    "print(average0_sepalW-average2_sepalW)\n",
    "\n",
    "print(SD0_sepalW, SD2_sepalW)\n",
    "print(\"\")\n",
    "\n",
    "print(average1_sepalW-average2_sepalW)\n",
    "print(SD1_sepalW, SD2_sepalW)\n",
    "print(\"\")\n",
    "\n",
    "average0_petalL=np.mean(df.loc[df['target']==0]['petal length (cm)']) #calculate mean values for each target petal length\n",
    "average1_petalL=np.mean(df.loc[df['target']==1]['petal length (cm)'])\n",
    "average2_petalL=np.mean(df.loc[df['target']==2]['petal length (cm)'])\n",
    "\n",
    "SD0_petalL=np.std(df.loc[df['target']==0]['petal length (cm)']) #calculate SD values for each target petal length\n",
    "SD1_petalL=np.std(df.loc[df['target']==1]['petal length (cm)'])\n",
    "SD2_petalL=np.std(df.loc[df['target']==2]['petal length (cm)'])\n",
    "\n",
    "print('Values for Petal Length')\n",
    "print(average0_petalL-average1_petalL)\n",
    "print(SD0_petalL, SD1_petalL)\n",
    "print(\"\")\n",
    "print(average0_petalL-average2_petalL)\n",
    "print(SD0_petalL, SD2_petalL)\n",
    "print(\"\")\n",
    "print(average1_sepalL-average2_sepalL)\n",
    "print(SD1_petalL, SD2_petalL)\n",
    "print(\"\")\n",
    "\n",
    "average0_petalW=np.mean(df.loc[df['target']==0]['petal width (cm)']) #calculate mean values for each target petal width\n",
    "average1_petalW=np.mean(df.loc[df['target']==1]['petal width (cm)'])\n",
    "average2_petalW=np.mean(df.loc[df['target']==2]['petal width (cm)'])\n",
    "\n",
    "SD0_petalW=np.std(df.loc[df['target']==0]['petal width (cm)'])  #calculate SD values for each target petal width\n",
    "SD1_petalW=np.std(df.loc[df['target']==1]['petal width (cm)'])\n",
    "SD2_petalW=np.std(df.loc[df['target']==2]['petal width (cm)'])\n",
    "\n",
    "print('Values for Petal Width')\n",
    "print(average0_petalW-average1_petalW)\n",
    "print(SD0_petalW, SD1_petalW)\n",
    "print(\"\")\n",
    "print(average0_petalW-average2_petalW)\n",
    "print(SD0_petalW, SD2_petalW)\n",
    "print(\"\")\n",
    "print(average1_sepalW-average2_sepalW)\n",
    "print(SD1_petalW, SD2_petalW)\n",
    "print(\"\")\n",
    "\n",
    "\n"
   ]
  },
  {
   "cell_type": "markdown",
   "metadata": {},
   "source": [
    "$-.93\\pm1.96\\sqrt{\\frac{0.348946987377739^2}{50}+\\frac{0.5109833656783752^2}{50}}\\approx-.93\\pm0.17151$\n",
    "\n",
    "$-1.581999999999999\\pm1.96\\sqrt{\\frac{0.348946987377739^2}{50}+\\frac{0.6294886813914925^2}{50}}\\approx-1.581999999999999\\pm0.19949$\n",
    "\n",
    "$-0.6519999999999984\\pm1.96\\sqrt{\\frac{0.5109833656783752^2}{50}+\\frac{0.6294886813914925^2}{50}}\\approx-0.6519999999999984\\pm0.22473$\n",
    "\n",
    "$0.6580000000000004\\pm1.96\\sqrt{\\frac{0.3752545802518604^2}{50}+\\frac{0.31064449134018135^2}{50}}\\approx0.6580000000000004\\pm0.13502$\n",
    "\n",
    "$0.45400000000000107\\pm1.96\\sqrt{\\frac{0.3752545802518604^2}{50}+\\frac{0.319255383666431^2}{50}}\\approx0.45400000000000107\\pm0.13656$\n",
    "\n",
    "$-0.2039999999999993\\pm1.96\\sqrt{\\frac{0.31064449134018135^2}{50}+\\frac{0.319255383666431^2}{50}}\\approx-0.2039999999999993\\pm0.12346$\n",
    "\n",
    "$-2.7979999999999996\\pm1.96\\sqrt{\\frac{0.17191858538273286^2}{50}+\\frac{0.4651881339845204^2}{50}}\\approx-2.7979999999999996\\pm0.13746$\n",
    "\n",
    "$-4.09\\pm1.96\\sqrt{\\frac{0.17191858538273286^2}{50}+\\frac{0.5463478745268441^2}{50}}\\approx-4.09\\pm0.15875$\n",
    "\n",
    "$-0.6519999999999984\\pm1.96\\sqrt{\\frac{0.4651881339845204^2}{50}+\\frac{0.5463478745268441^2}{50}}\\approx-0.6519999999999984\\pm0.19889$\n",
    "\n",
    "$-1.0799999999999998\\pm1.96\\sqrt{\\frac{0.10432641084595984^2}{50}+\\frac{0.19576516544063702^2}{50}}\\approx-1.0799999999999998\\pm0.06148$\n",
    "\n",
    "$-1.7799999999999998\\pm1.96\\sqrt{\\frac{0.10432641084595984^2}{50}+\\frac{0.2718896835115301^2}{50}}\\approx-1.7799999999999998\\pm0.08071$\n",
    "\n",
    "$-0.2039999999999993\\pm1.96\\sqrt{\\frac{0.19576516544063702^2}{50}+\\frac{0.2718896835115301^2}{50}}\\approx-0.2039999999999993\\pm0.09286$"
   ]
  },
  {
   "cell_type": "markdown",
   "metadata": {},
   "source": [
    "**Part B:** \n",
    "For each **pair** of iris types, how many of their characteristics differed versus were the same?  You should find that we are typically able to differentiate the **means** of the flowers.\n",
    "\n",
    "Make two side-by-side plots of the data, where the left-hand plot is of sepal width vs. sepal length and the right-hand plot is of petal width vs. petal length.  Color each plot by the `target` column of flower type.  *Classfication* problems are often interested in more than just the means, but how well we could differentiate between the individual flowers, which may overlap on an individual-by-individual basis!"
   ]
  },
  {
   "cell_type": "code",
   "execution_count": 4,
   "metadata": {},
   "outputs": [
    {
     "data": {
      "image/png": "[encoded data removed]",
      "text/plain": [
       "<Figure size 432x288 with 1 Axes>"
      ]
     },
     "metadata": {
      "needs_background": "light"
     },
     "output_type": "display_data"
    },
    {
     "data": {
      "text/plain": [
       "<matplotlib.legend.Legend at 0x7fce3822f5e0>"
      ]
     },
     "execution_count": 4,
     "metadata": {},
     "output_type": "execute_result"
    },
    {
     "data": {
      "image/png": "[encoded data removed]",
      "text/plain": [
       "<Figure size 432x288 with 1 Axes>"
      ]
     },
     "metadata": {
      "needs_background": "light"
     },
     "output_type": "display_data"
    }
   ],
   "source": [
    "target0_sepalW=df.loc[df['target']==0]['sepal width (cm)'] #get sepal width values for each target\n",
    "target1_sepalW=df.loc[df['target']==1]['sepal width (cm)']\n",
    "target2_sepalW=df.loc[df['target']==2]['sepal width (cm)']\n",
    "\n",
    "target0_sepalL=df.loc[df['target']==0]['sepal length (cm)'] #get sepal length values for each target\n",
    "target1_sepalL=df.loc[df['target']==1]['sepal length (cm)']\n",
    "target2_sepalL=df.loc[df['target']==2]['sepal length (cm)']\n",
    "\n",
    "\n",
    "plt.scatter(target0_sepalW, target0_sepalL, color='red', label='target 0') #plot\n",
    "plt.scatter(target1_sepalW, target1_sepalL, color='green', label='target 1')\n",
    "plt.scatter(target2_sepalW, target2_sepalL, color='blue', label='target 2')\n",
    "plt.legend()\n",
    "plt.xlabel('Sepal Width (cm)')\n",
    "plt.ylabel('Sepal Length (cm)')\n",
    "plt.show()\n",
    "\n",
    "target0_petalW=df.loc[df['target']==0]['petal width (cm)'] #get petal width values for each target\n",
    "target1_petalW=df.loc[df['target']==1]['petal width (cm)']\n",
    "target2_petalW=df.loc[df['target']==2]['petal width (cm)']\n",
    "\n",
    "target0_petalL=df.loc[df['target']==0]['petal length (cm)'] #get petal length values for each target\n",
    "target1_petalL=df.loc[df['target']==1]['petal length (cm)']\n",
    "target2_petalL=df.loc[df['target']==2]['petal length (cm)']\n",
    "\n",
    "plt.scatter(target0_petalW, target0_petalL, color='red', label='target 0')\n",
    "plt.scatter(target1_petalW, target1_petalL, color='green', label='target 1')\n",
    "plt.scatter(target2_petalW, target2_petalL, color='blue', label='target 2')\n",
    "plt.xlabel('Petal Width (cm)')\n",
    "plt.ylabel('Petal Length (cm)')\n",
    "plt.legend()"
   ]
  },
  {
   "cell_type": "markdown",
   "metadata": {},
   "source": [
    "Through these plots, we can see that the behavior of each target's values are similar but we can differentiate the means. For example, in the 2nd plot, we see that target 0 has a lower mean petal width and petal length than target 1 and target 2. We can also see in the first plot that target 0 has higher mean speal width than target 1 and target 2, but a lower mean sepal length."
   ]
  },
  {
   "cell_type": "markdown",
   "metadata": {},
   "source": [
    "**Part C:** \n",
    "The above table had 12 different confidence intervals to draw, and we allowed each to have a confidence of 95%.  What is the probability that each and every interval contained the true $\\mu$?\n",
    "\n",
    "*Hint: this is **not** the same question as follows in Part D*"
   ]
  },
  {
   "cell_type": "markdown",
   "metadata": {},
   "source": [
    "For each interval, the interval either contains the true mean (100%) or not (0%)."
   ]
  },
  {
   "cell_type": "markdown",
   "metadata": {},
   "source": [
    "**Part D:** \n",
    "Suppose we are planning to gather a large data set, where we will construct 12 confidence intervals for the respective means $\\mu_i$ of 12 independent random samples, each of which is constructed at a 95% confidence.\n",
    "\n",
    "What is the probability that **at least one** interval does not end up covering the true mean $\\mu$ for that feature?"
   ]
  },
  {
   "cell_type": "markdown",
   "metadata": {},
   "source": [
    "$1-1(.95)^{12}(1-.95)^{12-12}\\approx 0.45963$\n",
    "\n",
    "1-probabaility that all are successes"
   ]
  },
  {
   "cell_type": "markdown",
   "metadata": {
    "collapsed": true
   },
   "source": [
    "[Back to top](#top)\n",
    "<a/ id='p3'></a>\n",
    "\n",
    "## (15 pts) Problem 3: Simulation of Random Variables (Simulation)\n",
    "\n",
    "The CDF is a function $F(x)$ where we input *outcomes* $x$ and we get probabilities regarding those outcomes (specifically, the probability of all possible outcomes up to $x$).  But this is a question we also often want to ask **backwards**: given a probability, can we specify the $x$ value that holds \"that much\" of the probability of $X$?  The CDF is a function with a domain of \"possible values of $X$\" and a range of [0,1] since it returns probabilities.  Its inverse function, then, has domain [0,1] and range over all the $X$ values.  This inverse function is the function that we could input probabilities to and it would tell us about corresponding $X$-values.\n",
    "\n",
    "This is how random variables are often created by your computer, which is itself (generally) only good at creating random continuous uniforms $Y\\sim[0,1]$.  But if we consider $Y$ as a random *probability*, we can convert it into an *outcome* of a random variable by plugging it into the inverse of the cdf.\n",
    "\n",
    "**Part A:**\n",
    "\n",
    "You've seen the inverse of the cdf before when the random variables were normally distributed!  This is exactly what lives in `stats.norm.ppf(x)`.\n",
    "\n",
    "Simulate 10,000 random uniforms on [0,1] using numpy's `np.random.rand`.  Then plug them into `stats.norm.ppf(x)` and create a histogram of the results, overlaying the pdf of the standard normal.  Does it look like this converted your uniforms into random normals?"
   ]
  },
  {
   "cell_type": "code",
   "execution_count": 1,
   "metadata": {},
   "outputs": [
    {
     "ename": "NameError",
     "evalue": "name 'np' is not defined",
     "output_type": "error",
     "traceback": [
      "\u001b[0;31m---------------------------------------------------------------------------\u001b[0m",
      "\u001b[0;31mNameError\u001b[0m                                 Traceback (most recent call last)",
      "\u001b[0;32m<ipython-input-1-e52ff81d99e5>\u001b[0m in \u001b[0;36m<module>\u001b[0;34m\u001b[0m\n\u001b[0;32m----> 1\u001b[0;31m \u001b[0mxs\u001b[0m\u001b[0;34m=\u001b[0m\u001b[0mnp\u001b[0m\u001b[0;34m.\u001b[0m\u001b[0mrandom\u001b[0m\u001b[0;34m.\u001b[0m\u001b[0muniform\u001b[0m\u001b[0;34m(\u001b[0m\u001b[0;36m0\u001b[0m\u001b[0;34m,\u001b[0m\u001b[0;36m1\u001b[0m\u001b[0;34m,\u001b[0m\u001b[0;36m10000\u001b[0m\u001b[0;34m)\u001b[0m \u001b[0;31m#random uniform\u001b[0m\u001b[0;34m\u001b[0m\u001b[0;34m\u001b[0m\u001b[0m\n\u001b[0m\u001b[1;32m      2\u001b[0m \u001b[0mplt\u001b[0m\u001b[0;34m.\u001b[0m\u001b[0mhist\u001b[0m\u001b[0;34m(\u001b[0m\u001b[0mstats\u001b[0m\u001b[0;34m.\u001b[0m\u001b[0mnorm\u001b[0m\u001b[0;34m.\u001b[0m\u001b[0mppf\u001b[0m\u001b[0;34m(\u001b[0m\u001b[0mxs\u001b[0m\u001b[0;34m)\u001b[0m\u001b[0;34m,\u001b[0m \u001b[0mdensity\u001b[0m\u001b[0;34m=\u001b[0m\u001b[0;32mTrue\u001b[0m\u001b[0;34m)\u001b[0m \u001b[0;31m#density hist\u001b[0m\u001b[0;34m\u001b[0m\u001b[0;34m\u001b[0m\u001b[0m\n\u001b[1;32m      3\u001b[0m \u001b[0mx\u001b[0m \u001b[0;34m=\u001b[0m \u001b[0mnp\u001b[0m\u001b[0;34m.\u001b[0m\u001b[0marange\u001b[0m\u001b[0;34m(\u001b[0m\u001b[0;34m-\u001b[0m\u001b[0;36m4\u001b[0m\u001b[0;34m,\u001b[0m \u001b[0;36m4\u001b[0m\u001b[0;34m,\u001b[0m \u001b[0;36m0.001\u001b[0m\u001b[0;34m)\u001b[0m\u001b[0;34m\u001b[0m\u001b[0;34m\u001b[0m\u001b[0m\n\u001b[1;32m      4\u001b[0m \u001b[0mplt\u001b[0m\u001b[0;34m.\u001b[0m\u001b[0mplot\u001b[0m\u001b[0;34m(\u001b[0m\u001b[0mx\u001b[0m\u001b[0;34m,\u001b[0m \u001b[0mstats\u001b[0m\u001b[0;34m.\u001b[0m\u001b[0mnorm\u001b[0m\u001b[0;34m.\u001b[0m\u001b[0mpdf\u001b[0m\u001b[0;34m(\u001b[0m\u001b[0mx\u001b[0m\u001b[0;34m,\u001b[0m \u001b[0;36m0\u001b[0m\u001b[0;34m,\u001b[0m \u001b[0;36m1\u001b[0m\u001b[0;34m)\u001b[0m\u001b[0;34m)\u001b[0m \u001b[0;31m#plot standard normal\u001b[0m\u001b[0;34m\u001b[0m\u001b[0;34m\u001b[0m\u001b[0m\n",
      "\u001b[0;31mNameError\u001b[0m: name 'np' is not defined"
     ]
    }
   ],
   "source": [
    "xs=np.random.uniform(0,1,10000) #random uniform \n",
    "plt.hist(stats.norm.ppf(xs), density=True) #density hist \n",
    "x = np.arange(-4, 4, 0.001) \n",
    "plt.plot(x, stats.norm.pdf(x, 0, 1)) #plot standard normal"
   ]
  },
  {
   "cell_type": "markdown",
   "metadata": {},
   "source": [
    "Both plots look similar, so it seems like the uniforms were converted into random normals."
   ]
  },
  {
   "cell_type": "markdown",
   "metadata": {},
   "source": [
    "**Part B:**\n",
    "\n",
    "To turn random uniforms into *any* random variable, we just need to actually compute by hand the .ppf function.  Take, for example, the exponential distribution, given by:\n",
    "\n",
    "$$f(x)= \\lambda e^{-\\lambda x} \\quad \\text{ for } x \\geq 0$$\n",
    "\n",
    "Compute **by hand** the cdf of the exponential distribution, and find that functions' *inverse*.  \n",
    "\n",
    "(Recall: the inverse of a function $y=f(x)$ can be found in practice by \"swapping\" $y$ and $x$ and then solving for $y$ in its new location.)"
   ]
  },
  {
   "cell_type": "markdown",
   "metadata": {},
   "source": [
    "**Solution Markdown**:\n",
    "\n",
    "$\\int_{0}^{x} \\lambda e^{-\\lambda x}dx=-e^{-\\lambda x}+1$\n",
    "\n",
    "$y=-e^{-\\lambda x}+1$\n",
    "\n",
    "$-x=e^{-\\lambda y}-1$\n",
    "\n",
    "$-x+1=e^{-\\lambda y}$\n",
    "\n",
    "$log(-x+1)=-\\lambda y$\n",
    "\n",
    "$y=\\frac{log(-x+1)}{-\\lambda}$"
   ]
  },
  {
   "cell_type": "markdown",
   "metadata": {},
   "source": [
    "**Part C:**\n",
    "\n",
    "1) Simulate 10,000 random uniforms on [0,1] using numpy's `np.random.rand`.  Then plug them into `stats.expon.ppf` for $\\lambda=3$ and create a (density) histogram of the results\n",
    "\n",
    "2) Simulate another 10,000 random uniforms on [0,1] using numpy's `np.random.rand`.  Then plug them into the inverse cdf with $\\lambda=3$ you found by hand in part **B**, and overlay a (density) histogram of the results on your already created plot.\n",
    "\n",
    "3) Overlay the pdf of the $\\lambda=3$ exponential random variable"
   ]
  },
  {
   "cell_type": "code",
   "execution_count": 6,
   "metadata": {},
   "outputs": [
    {
     "data": {
      "text/plain": [
       "[<matplotlib.lines.Line2D at 0x7fce4b467970>]"
      ]
     },
     "execution_count": 6,
     "metadata": {},
     "output_type": "execute_result"
    },
    {
     "data": {
      "image/png": "[encoded data removed]",
      "text/plain": [
       "<Figure size 432x288 with 1 Axes>"
      ]
     },
     "metadata": {
      "needs_background": "light"
     },
     "output_type": "display_data"
    }
   ],
   "source": [
    "import math\n",
    "\n",
    "xs=np.random.uniform(0,1,10000)\n",
    "plt.hist(stats.expon.ppf(xs, scale=1/3), density=True, alpha=.5, color='r') #plot hist for stats.expon.ppf\n",
    "func=lambda a: math.log(-a+1)/(-3)\n",
    "xs1=[]\n",
    "for i in range(len(xs)): \n",
    "    xs1.append(func(xs[i]))\n",
    "plt.hist(xs1, density=True, alpha=.5, color='g') #plot hist from part B equation\n",
    "\n",
    "x=np.linspace(0,1,10000)\n",
    "plt.plot(x, stats.expon.pdf(x, scale=1/3))"
   ]
  },
  {
   "cell_type": "markdown",
   "metadata": {},
   "source": [
    "**Part D:**\n",
    "\n",
    "Suppose we have a *Bernoulli* random variable $X$ with probability $p=.7$.  Plot the cdf of this random variable.  What would be the inverse of this function?\n",
    "\n",
    "Could we still use the logic of the earlier parts of the problem to convert a $Y\\sim[0,1]$ random variable into a Bernoulli?  Explain, and explain how such a process might generalize to other discrete random variables such as the Geometric."
   ]
  },
  {
   "cell_type": "code",
   "execution_count": 7,
   "metadata": {},
   "outputs": [
    {
     "data": {
      "text/plain": [
       "[<matplotlib.lines.Line2D at 0x7fce382fe430>]"
      ]
     },
     "execution_count": 7,
     "metadata": {},
     "output_type": "execute_result"
    },
    {
     "data": {
      "image/png": "[encoded data removed]",
      "text/plain": [
       "<Figure size 432x288 with 1 Axes>"
      ]
     },
     "metadata": {
      "needs_background": "light"
     },
     "output_type": "display_data"
    }
   ],
   "source": [
    "import random \n",
    "\n",
    "xs=[random.randint(0,1) for i in range(0,100)]\n",
    "plt.plot(xs, stats.bernoulli.cdf(xs,.7), color='green') #plot cdf bernoulli"
   ]
  },
  {
   "cell_type": "markdown",
   "metadata": {},
   "source": [
    "The inverse of the bernoulli cdf will return the value 0 if X≤1−p and 1 if X>1−p. \n",
    "\n",
    "It is possible to apply this to other discrete random variables by repeating this process n times and summing the results. "
   ]
  }
 ],
 "metadata": {
  "kernelspec": {
   "display_name": "Python 3",
   "language": "python",
   "name": "python3"
  },
  "language_info": {
   "codemirror_mode": {
    "name": "ipython",
    "version": 3
   },
   "file_extension": ".py",
   "mimetype": "text/x-python",
   "name": "python",
   "nbconvert_exporter": "python",
   "pygments_lexer": "ipython3",
   "version": "3.8.8"
  }
 },
 "nbformat": 4,
 "nbformat_minor": 2
}
