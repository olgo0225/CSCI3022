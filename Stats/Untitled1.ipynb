{
 "cells": [
  {
   "cell_type": "code",
   "execution_count": 3,
   "id": "d4f2cdd4",
   "metadata": {},
   "outputs": [],
   "source": [
    "from scipy import stats\n",
    "import numpy as np \n",
    "import pandas as pd\n",
    "import matplotlib.pyplot as plt\n",
    "%matplotlib inline"
   ]
  },
  {
   "cell_type": "code",
   "execution_count": 4,
   "id": "64305b90",
   "metadata": {},
   "outputs": [],
   "source": [
    "A = [0, .3, .6, .9,1.2,1.5,1.8,2.1,2.4,2.7, 3]\n",
    "B=[1,2,3,4,5,6,7,8,9,10]\n",
    "B = [10-10*np.exp(-x) for x in B]\n",
    "C = [0, 0,  0,  0,  0,  1,  2,  3,  4,  5, 10]\n",
    "D = [5, 5,  5,  5,  5,  5,  5,  3,  3,  3,  3]"
   ]
  },
  {
   "cell_type": "code",
   "execution_count": 5,
   "id": "0b53a833",
   "metadata": {},
   "outputs": [
    {
     "data": {
      "text/plain": [
       "{'whiskers': [<matplotlib.lines.Line2D at 0x7fdda0e12760>,\n",
       "  <matplotlib.lines.Line2D at 0x7fdda0e12ac0>],\n",
       " 'caps': [<matplotlib.lines.Line2D at 0x7fdda0e12e20>,\n",
       "  <matplotlib.lines.Line2D at 0x7fdda0e2a1c0>],\n",
       " 'boxes': [<matplotlib.lines.Line2D at 0x7fdda0e12400>],\n",
       " 'medians': [<matplotlib.lines.Line2D at 0x7fdda0e2a520>],\n",
       " 'fliers': [<matplotlib.lines.Line2D at 0x7fdda0e2a880>],\n",
       " 'means': []}"
      ]
     },
     "execution_count": 5,
     "metadata": {},
     "output_type": "execute_result"
    },
    {
     "data": {
      "image/png": "[encoded data removed]",
      "text/plain": [
       "<Figure size 432x288 with 1 Axes>"
      ]
     },
     "metadata": {
      "needs_background": "light"
     },
     "output_type": "display_data"
    }
   ],
   "source": [
    "plt.boxplot(D)"
   ]
  },
  {
   "cell_type": "code",
   "execution_count": 6,
   "id": "0f47690d",
   "metadata": {},
   "outputs": [],
   "source": [
    "X1=[1,3,4,5,6,6,7,7,9]\n",
    "X2=[1,4,5,5,6,6,7,7,9]\n",
    "X4=[2,2,4,5,5,5,6,7,10]\n",
    "X5=[1,2,3,5,6,6,7,7,8]\n",
    "X6=[1,2,3,5,5,6,6,7,11]\n",
    "X3=[1,2,2,5,5,6,6,6,11]"
   ]
  },
  {
   "cell_type": "code",
   "execution_count": 7,
   "id": "bb86fb7d",
   "metadata": {},
   "outputs": [
    {
     "data": {
      "text/plain": [
       "{'whiskers': [<matplotlib.lines.Line2D at 0x7fddb2c0eb20>,\n",
       "  <matplotlib.lines.Line2D at 0x7fddb2c0ee80>],\n",
       " 'caps': [<matplotlib.lines.Line2D at 0x7fddb2c1a220>,\n",
       "  <matplotlib.lines.Line2D at 0x7fddb2c1a580>],\n",
       " 'boxes': [<matplotlib.lines.Line2D at 0x7fddb2c0e7c0>],\n",
       " 'medians': [<matplotlib.lines.Line2D at 0x7fddb2c1a8e0>],\n",
       " 'fliers': [<matplotlib.lines.Line2D at 0x7fddb2c1ac40>],\n",
       " 'means': []}"
      ]
     },
     "execution_count": 7,
     "metadata": {},
     "output_type": "execute_result"
    },
    {
     "data": {
      "image/png": "[encoded data removed]",
      "text/plain": [
       "<Figure size 432x288 with 1 Axes>"
      ]
     },
     "metadata": {
      "needs_background": "light"
     },
     "output_type": "display_data"
    }
   ],
   "source": [
    "np.mean(X4)\n",
    "plt.boxplot(X6)\n"
   ]
  },
  {
   "cell_type": "code",
   "execution_count": 8,
   "id": "d1546e44",
   "metadata": {},
   "outputs": [
    {
     "data": {
      "text/plain": [
       "(array([1., 0., 2., 0., 2., 2., 1., 1., 0., 2.]),\n",
       " array([ 1.,  2.,  3.,  4.,  5.,  6.,  7.,  8.,  9., 10., 11.]),\n",
       " <BarContainer object of 10 artists>)"
      ]
     },
     "execution_count": 8,
     "metadata": {},
     "output_type": "execute_result"
    },
    {
     "data": {
      "image/png": "[encoded data removed]",
      "text/plain": [
       "<Figure size 432x288 with 1 Axes>"
      ]
     },
     "metadata": {
      "needs_background": "light"
     },
     "output_type": "display_data"
    }
   ],
   "source": [
    "Y=[1,3,3,5,5,6,6,7,8,10,11]\n",
    "plt.hist(Y, width=2)"
   ]
  },
  {
   "cell_type": "code",
   "execution_count": 9,
   "id": "5a49e1ce",
   "metadata": {},
   "outputs": [],
   "source": [
    "X100=[1,3,4,5,6,6,7,7,9]"
   ]
  },
  {
   "cell_type": "code",
   "execution_count": 13,
   "id": "6591f2dd",
   "metadata": {},
   "outputs": [
    {
     "name": "stdout",
     "output_type": "stream",
     "text": [
      "6.0\n",
      "5.333333333333333\n"
     ]
    },
    {
     "data": {
      "image/png": "[encoded data removed]",
      "text/plain": [
       "<Figure size 432x288 with 1 Axes>"
      ]
     },
     "metadata": {
      "needs_background": "light"
     },
     "output_type": "display_data"
    }
   ],
   "source": [
    "plt.boxplot(X100)\n",
    "print(np.median(X100))\n",
    "print(np.mean(X100))"
   ]
  },
  {
   "cell_type": "code",
   "execution_count": 12,
   "id": "f02fb425",
   "metadata": {},
   "outputs": [
    {
     "data": {
      "text/plain": [
       "(array([1., 1., 2., 4., 1.]),\n",
       " array([ 0,  2,  4,  6,  8, 10]),\n",
       " <BarContainer object of 5 artists>)"
      ]
     },
     "execution_count": 12,
     "metadata": {},
     "output_type": "execute_result"
    },
    {
     "data": {
      "image/png": "[encoded data removed]",
      "text/plain": [
       "<Figure size 432x288 with 1 Axes>"
      ]
     },
     "metadata": {
      "needs_background": "light"
     },
     "output_type": "display_data"
    }
   ],
   "source": [
    "plt.hist(X100, bins=[0,2,4,6,8,10])"
   ]
  },
  {
   "cell_type": "code",
   "execution_count": null,
   "id": "94c6b4ed",
   "metadata": {},
   "outputs": [],
   "source": []
  }
 ],
 "metadata": {
  "kernelspec": {
   "display_name": "Python 3",
   "language": "python",
   "name": "python3"
  },
  "language_info": {
   "codemirror_mode": {
    "name": "ipython",
    "version": 3
   },
   "file_extension": ".py",
   "mimetype": "text/x-python",
   "name": "python",
   "nbconvert_exporter": "python",
   "pygments_lexer": "ipython3",
   "version": "3.8.8"
  }
 },
 "nbformat": 4,
 "nbformat_minor": 5
}
