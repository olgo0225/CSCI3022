{
 "cells": [
  {
   "cell_type": "markdown",
   "metadata": {},
   "source": [
    "<a id='top'></a>\n",
    "\n",
    "# CSCI3022 F21\n",
    "# Homework 2: Visualizing and Processing Data\n",
    "***\n",
    "\n",
    "**Name**: Olivia Golden\n",
    "\n",
    "***\n",
    "\n",
    "This assignment is due on Canvas (as .ipynb) and Gradescope (as a .pdf) by **MIDNIGHT on Mon 13 Sep**. Your solutions to theoretical questions should be done in Markdown directly below the associated question.  Your solutions to computational questions should include any specified Python code and results as well as written commentary on your conclusions.  Remember that you are encouraged to discuss the problems with your classmates, but **you must write all code and solutions on your own**.\n",
    "\n",
    "**NOTES**: \n",
    "\n",
    "- Any relevant data sets should be available on Canvas. To make life easier on the graders if they need to run your code, do not change the relative path names here. Instead, move the files around on your computer.\n",
    "- If you're not familiar with typesetting math directly into Markdown then by all means, do your work on paper first and then typeset it later.  Here is a [reference guide](https://math.meta.stackexchange.com/questions/5020/mathjax-basic-tutorial-and-quick-reference) linked on Canvas on writing math in Markdown. **All** of your written commentary, justifications and mathematical work should be in Markdown.  I also recommend the [wikibook](https://en.wikibooks.org/wiki/LaTeX) for LaTex.\n",
    "- Because you can technically evaluate notebook cells is a non-linear order, it's a good idea to do **Kernel $\\rightarrow$ Restart & Run All** as a check before submitting your solutions.  That way if we need to run your code you will know that it will work as expected. \n",
    "- It is **bad form** to make your reader interpret numerical output from your code.  If a question asks you to compute some value from the data you should show your code output **AND** write a summary of the results in Markdown directly below your code. \n",
    "- 45 points of this assignment are in problems.  The remaining 5 are for neatness, style, and overall exposition of both code and text.\n",
    "- This probably goes without saying, but... For any question that asks you to calculate something, you **must show all work and justify your answers to receive credit**. Sparse or nonexistent work will receive sparse or nonexistent credit. \n",
    "\n",
    "---\n",
    "**Shortcuts:**  [Problem 1](#p1) | [Problem 2](#p2) |\n",
    "---"
   ]
  },
  {
   "cell_type": "code",
   "execution_count": 17,
   "metadata": {},
   "outputs": [],
   "source": [
    "import numpy as np\n",
    "import pandas as pd\n",
    "import matplotlib.pylab as plt\n",
    "%matplotlib inline\n",
    "\n"
   ]
  },
  {
   "cell_type": "markdown",
   "metadata": {},
   "source": [
    "[Back to top](#top)\n",
    "<a/ id='p1'></a>\n",
    "\n",
    "## (20 pts) Problem 1: Computation (Streaming Means)\n",
    "***\n",
    "\n",
    "Data science is often divided into two categories: questions of *what* the best value might be to repreesnt a data problem, and questions of *how* to compute that data value.  Question 1 - and prior lectures - should tell you that computing the mean is valuable!  But *how* do we compute the mean?\n",
    "\n",
    "Let $x_1, x_2, \\ldots, x_n$ be $n$ observations of a variable of interest.  Recall that the sample mean $\\bar{x}_n$ and sample variance $s^2_n$ are given by \n",
    "<a id='eq1'></a>\n",
    "$$\n",
    "\\bar{x}_n = \\frac{1}{n}\\sum_{k=1}^n x_k \\quad \\textrm{and} \\quad s^2_n = \\frac{1}{n-1}\\sum_{k=1}^n \\left( x_k - \\bar{x}_n\\right)^2 \\qquad \\tag{Equation 1}\n",
    "$$"
   ]
  },
  {
   "cell_type": "markdown",
   "metadata": {},
   "source": [
    "**Part A**:\n",
    "\n",
    "How many computations - floating point operations: addition, subtraction, multiplication, division each count as 1 operation - are required to compute the mean of the data set with $n$ observations?\n"
   ]
  },
  {
   "cell_type": "markdown",
   "metadata": {},
   "source": [
    "It takes n operations.  n-1 operations to sum up the set with n observations and then an additional operation to divide by n."
   ]
  },
  {
   "cell_type": "markdown",
   "metadata": {},
   "source": [
    "**Part B**:\n",
    "\n",
    "Now suppose our data is *streaming*- we slowly add observations one at a time, instead of seeing the entire data set at once.  We are still interested in the mean, so if we stream the data set `[4,6,0,10, ...]`, we first compute the mean of the the first data point `[4]`, then we recompute the mean of the first two points `[4,6]`, then we recompute the mean of three `[4,6,0]`, and so forth.\n",
    "\n",
    "Suppose we recompute the mean from scratch after each and every one of our $n$ observations are one-by-one added to our data set.  How many floating point operations are spent computing (and re-computing) the mean of the data set?"
   ]
  },
  {
   "cell_type": "markdown",
   "metadata": {},
   "source": [
    "It takes $\\sum_{k=1}^{n} k$ operations."
   ]
  },
  {
   "cell_type": "markdown",
   "metadata": {},
   "source": [
    "We should be convinced that streaming a mean costs a lot more computer time than just computing once!\n",
    "\n",
    "In this problem we explore a smarter method for such an _online_ computation of the mean.  \n",
    "\n",
    "**Result**: The following relation holds between the mean of the first $n-1$ observations and the mean of all $n$ observations: \n",
    "\n",
    "$$\n",
    "\\bar{x}_n = \\bar{x}_{n-1} + \\frac{x_n - \\bar{x}_{n-1}}{n}\n",
    "$$\n",
    "\n",
    "\n",
    "A proof of this result is in the [Appendix](#Appendix) after this problem, and requires some careful manipulations of the sum $\\bar{x}_n$.  Your task will be to computationally verify and utilize this result.\n",
    "\n",
    "**Part C**: Write a function `my_sample_mean` that takes as its input a numpy array and returns the mean of that numpy array using the formulas from class ([Equation 1](#eq1)). Write another function `my_sample_var` that takes as its input a numpy array and returns the variance of that numpy array, again using the formulas from class ([Equation 1](#eq1)). You may **not** use any built-in sample mean or variance functions."
   ]
  },
  {
   "cell_type": "code",
   "execution_count": 18,
   "metadata": {},
   "outputs": [],
   "source": [
    "#Solution:\n",
    "def my_sample_mean(array):\n",
    "    return sum(array)/len(array) #sum up array and divide by length\n",
    "\n",
    "def my_sample_var(array):\n",
    "    var=0 #start sum at 0\n",
    "    mean=my_sample_mean(array) #calculate mean using previous func\n",
    "    for i in range(len(array)): \n",
    "        var=var+(array[i]-mean)**2 #sum up (array - mean)^2\n",
    "    return var/(len(array)-1) #divide by n-1"
   ]
  },
  {
   "cell_type": "markdown",
   "metadata": {},
   "source": [
    "**Part D**: Use your functions from Part C to compute the sample mean and sample variance of the following array, which contains the minutes late that the BuffBus is running on Friday afternoon.\n",
    "\n",
    "`bus = [312, 4, 10, 0, 22, 39, 81, 19, 8, 60, 80, 42,12,1]`"
   ]
  },
  {
   "cell_type": "code",
   "execution_count": 19,
   "metadata": {},
   "outputs": [
    {
     "name": "stdout",
     "output_type": "stream",
     "text": [
      "49.285714285714285\n",
      "6488.681318681319\n"
     ]
    }
   ],
   "source": [
    "bus = [312, 4, 10, 0, 22, 39, 81, 19, 8, 60, 80, 42, 12, 1]\n",
    "print(my_sample_mean(bus))\n",
    "print(my_sample_var(bus))"
   ]
  },
  {
   "cell_type": "markdown",
   "metadata": {},
   "source": [
    "**Part E**: Implement a third function called `update_mean` that implements the formula discussed after part B. Note that this function will need to take as its input three things: $x_n$, $\\bar{x}_{n-1}$ and $n$, and returns $\\bar{x}_{n}$. A function header and return statement are provided for you. This function may be auto-graded, so please do not change the given header API - the order of inputs matters! If you change it, you might lose points.\n",
    "\n",
    "Use this function to compute the values that you get from taking the mean of the first buff buses' lateness, the first two buff buses' lateness, the first three buff buses' lateness, and so on up to all of the `bus` data points from **Part D**. Store your streaming bus means in a numpy array called `buffbus_bad_means`.  Report all 12 estimates in `buffbus_bad_means`."
   ]
  },
  {
   "cell_type": "code",
   "execution_count": 20,
   "metadata": {},
   "outputs": [
    {
     "name": "stdout",
     "output_type": "stream",
     "text": [
      "[312, 158.0, 108.66666666666666, 81.5, 69.6, 64.5, 66.85714285714286, 60.875, 55.0, 55.5, 57.72727272727273, 56.416666666666664, 53.0, 49.285714285714285]\n"
     ]
    }
   ],
   "source": [
    "# Given API:\n",
    "def update_mean(prev_mean, xn, n):\n",
    "    if n==1: #if only one value, set mean equal to value\n",
    "        new_mean=xn\n",
    "    else:\n",
    "        new_mean=prev_mean+(xn-prev_mean)/n #else implement equation from above\n",
    "    return(new_mean)\n",
    "\n",
    "\n",
    "buff_bad_means=[]\n",
    "mean=update_mean(0,bus[0],1)\n",
    "buff_bad_means.append(mean)\n",
    "\n",
    "for i in range(1,14):\n",
    "    x=update_mean(buff_bad_means[i-1],bus[i], i+1)\n",
    "    buff_bad_means.append(x)\n",
    "    \n",
    "print(buff_bad_means)"
   ]
  },
  {
   "cell_type": "markdown",
   "metadata": {},
   "source": [
    "To ensure your function complies with the given API, run this small test, where we suppose we have a mean of $\\bar{x}_n = 1$ with the first $2$ data points (`prev_mean`), and we update this with the 3rd ($n=3$) data point which is $x_3=2$:"
   ]
  },
  {
   "cell_type": "code",
   "execution_count": 21,
   "metadata": {},
   "outputs": [],
   "source": [
    "assert update_mean(1,2,3)==4/3, \"Warning: function seems broken.\""
   ]
  },
  {
   "cell_type": "markdown",
   "metadata": {},
   "source": [
    "**Part F**:\n",
    "\n",
    "How many floating point operations were spent computing the final result in your code in part E?  Is this truly better than the uninformed approach from part B?"
   ]
  },
  {
   "cell_type": "markdown",
   "metadata": {},
   "source": [
    "It takes 231 operations.  It is very similar to part B and gives the same number of observations."
   ]
  },
  {
   "cell_type": "markdown",
   "metadata": {},
   "source": [
    "**Part G:**\n",
    "A similar result to the formula preceding part C holds for variance.  In particular, we can write that:\n",
    "\n",
    "$$\n",
    "\\displaystyle s^2 = \\frac{\\sum_{i=1}^n (x_i-\\bar{x})^2}{n-1} = \\frac{1}{n(n-1)} \\left(n \\cdot \\sum_{i=1}^n x_i^2 - \\left(\\sum_{i=1}^n x_i \\right)^2 \\right)\n",
    "$$\n",
    "\n",
    "Describe in **words** and/or **psuedocode** how you might adapt the function you made in part **E** to perform running calculations of *both* variance and mean.  Be very clear as to what the input/instantiation arguments would be as well as what the output arguments would be in addition to any intermediate calculations."
   ]
  },
  {
   "cell_type": "markdown",
   "metadata": {},
   "source": [
    "\n",
    "Create function with 5 inputs: prev_mean, sum_var_2, sum_var, xn, n\n",
    "\n",
    "    if n==1: #if only one value, set mean equal to value\n",
    "        set new_mean to xn\n",
    "        set new_var to 0\n",
    "        set sum_var to xn\n",
    "        set sum_var_2 to xn^2\n",
    "    otherwise\n",
    "        add xn^2 to sum_var_2\n",
    "        add xn to sum_var\n",
    "        calculate new mean with new_mean=prev_mean+(xn-prev_mean)/n \n",
    "        calculate new variance with new_var=((n*sum_var_2)-(sum_var^2))/(n*(n-1))\n",
    "    return(new_mean, new_var, sum_var_2, sum_var)"
   ]
  },
  {
   "cell_type": "markdown",
   "metadata": {},
   "source": [
    "<a id='Appendix'></a>\n",
    "\n",
    "## Appendix \n",
    "\n",
    "*Goal*: Prove that \n",
    "$$\n",
    "\\bar{x}_n = \\bar{x}_{n-1} + \\frac{x_n - \\bar{x}_{n-1}}{n}\n",
    "$$\n",
    "\n",
    "Note that you can get an expression for $\\bar{x}_{n-1}$ by simply replacing $n$ in Equation 1 above with $n-1$.\n",
    "\n",
    "We'll start with $\\bar{x}_n$ and massage it until we get the righthand side of the formula\n",
    "\n",
    "\\begin{eqnarray}\n",
    "\\nonumber \\bar{x}_n &=& \\frac{1}{n} \\sum_{k=1}^n x_k \\\\\n",
    "&=& \\frac{1}{n} \\sum_{k=1}^{n-1} x_k + \\frac{1}{n}x_n \\\\\n",
    "&=& \\frac{n-1}{n-1}\\frac{1}{n} \\sum_{k=1}^{n-1} x_k + \\frac{1}{n}x_n \\\\\n",
    "&=& \\frac{n-1}{n} \\left(\\frac{1}{n-1} \\sum_{k=1}^{n-1} x_k\\right) + \\frac{1}{n}x_n \\\\\n",
    "&=& \\frac{n-1}{n} \\bar{x}_{n-1} + \\frac{1}{n}x_n \\\\\n",
    "&=& \\frac{n}{n}\\bar{x}_{n-1} - \\frac{1}{n}\\bar{x}_{n-1} + \\frac{1}{n}x_n \\\\\n",
    "&=&  \\bar{x}_{n-1} + \\frac{x_n - \\bar{x}_{n-1}}{n} \\quad \\checkmark\n",
    "\\end{eqnarray}\n",
    "\n"
   ]
  },
  {
   "cell_type": "markdown",
   "metadata": {},
   "source": [
    "## (25 pts) Problem 2: Data (Grouping and Plotting)\n",
    "\n",
    "The US Census Bureau is one of the largest data gathering organizations in the year.  They often have to analyze data involving the entire nation and describe it according to a variety of factors, including grouping by location (state, city, neighorhood), demographic factors, time, and more.  For this problem we have access to 10 years of state-wide reported unemployment data: for each of the reporting governments, we have 120 months of unemployment percentages.\n",
    "\n",
    "Our goal is to explore this data and visualize it."
   ]
  },
  {
   "cell_type": "code",
   "execution_count": 22,
   "metadata": {},
   "outputs": [],
   "source": [
    "df=pd.read_csv('employment.csv', encoding='UTF-8')\n",
    "dfstates=pd.read_csv('stategeocodes.csv', encoding='UTF-8')\n"
   ]
  },
  {
   "cell_type": "markdown",
   "metadata": {},
   "source": [
    "**Part A:**  Load in the data above from both `employment.csv` and `stategeocodes.csv` and make sure you understand the data's shape and form.  For each file, check out `pd.dtypes` then print out `pd.shape` and `pd.head`.  Is each field of the correct data type?  Do we have the expected number of rows for tracking all 50 states?\n"
   ]
  },
  {
   "cell_type": "code",
   "execution_count": 23,
   "metadata": {},
   "outputs": [
    {
     "name": "stdout",
     "output_type": "stream",
     "text": [
      "Series ID      int64\n",
      "11-Jan       float64\n",
      "11-Feb       float64\n",
      "11-Mar       float64\n",
      "11-Apr       float64\n",
      "              ...   \n",
      "20-Aug       float64\n",
      "20-Sep       float64\n",
      "20-Oct       float64\n",
      "20-Nov       float64\n",
      "20-Dec       float64\n",
      "Length: 121, dtype: object\n",
      "(51, 121)\n",
      "<bound method NDFrame.head of     Series ID  11-Jan  11-Feb  11-Mar  11-Apr  11-May  11-Jun  11-Jul  11-Aug  \\\n",
      "0           1    10.7    10.3     9.8     9.2     9.3    10.3    10.1     9.8   \n",
      "1           2     9.0     8.9     8.6     8.0     7.6     7.8     7.0     6.7   \n",
      "2           4    10.1     9.6     9.3     9.1     8.9    10.4    10.2     9.8   \n",
      "3           5     8.9     8.7     8.0     7.5     7.8     8.3     8.3     7.9   \n",
      "4           6    12.7    12.4    12.3    11.7    11.5    12.2    12.4    12.1   \n",
      "5           8     9.5     9.4     9.1     8.5     8.9     8.7     8.5     8.5   \n",
      "6           9    10.1     9.8     9.4     8.8     9.0     9.3     9.3     9.2   \n",
      "7          10     8.6     8.4     7.9     7.4     7.2     8.0     7.9     7.8   \n",
      "8          11    10.2    10.1    10.0     9.4     9.9    11.0    10.9    10.7   \n",
      "9          12    10.8    10.3    10.1     9.8     9.9    10.4    10.4    10.3   \n",
      "10         13    10.7    10.4    10.1     9.8    10.0    10.7    10.6    10.4   \n",
      "11         15     6.9     6.7     6.5     6.4     6.7     7.6     7.0     7.0   \n",
      "12         16     9.9     9.5     9.3     8.5     7.7     7.8     7.8     7.6   \n",
      "13         17    10.2    10.0     9.7     9.3     9.4    10.2    10.3    10.2   \n",
      "14         18     9.9     9.6     9.1     8.3     8.5     9.1     9.1     9.1   \n",
      "15         19     6.8     6.4     6.2     5.4     5.3     5.8     5.4     5.6   \n",
      "16         20     7.2     7.1     6.7     6.1     6.3     6.6     6.8     6.6   \n",
      "17         21    10.5    10.4     9.9     9.1     9.4     9.8     9.9     9.1   \n",
      "18         22     8.3     7.4     7.3     6.9     7.2     8.3     8.0     7.7   \n",
      "19         23     9.2     9.1     8.7     8.1     7.8     7.6     7.3     6.9   \n",
      "20         24     7.9     7.8     7.4     6.9     7.2     7.7     7.6     7.5   \n",
      "21         25     8.3     8.0     7.6     7.0     7.1     7.5     7.5     7.0   \n",
      "22         26    11.0    10.8    10.4     9.7     9.9    10.5    11.2    10.2   \n",
      "23         27     7.7     7.5     7.4     6.6     6.3     6.8     7.2     6.3   \n",
      "24         28    10.1    10.0     9.6     9.2     9.8    10.9    10.6     9.9   \n",
      "25         29    10.0     9.8     9.3     8.4     8.6     8.9     8.8     8.9   \n",
      "26         30     8.3     7.9     7.7     6.7     6.1     6.6     6.2     6.1   \n",
      "27         31     5.1     5.0     4.8     4.3     4.3     4.8     4.5     4.4   \n",
      "28         32    14.1    13.6    13.4    13.3    13.1    13.6    13.6    13.6   \n",
      "29         33     6.3     6.1     5.7     5.2     5.3     5.5     5.5     5.5   \n",
      "30         34    10.0     9.9     9.6     9.0     9.2     9.5     9.7     9.3   \n",
      "31         35     7.7     7.4     6.9     6.6     6.7     7.9     8.0     7.6   \n",
      "32         36     9.0     8.9     8.3     7.9     7.9     8.2     8.5     8.4   \n",
      "33         37    11.3    10.7    10.3     9.8    10.1    10.6    10.6    10.5   \n",
      "34         38     4.2     4.1     4.0     3.4     3.0     3.7     3.2     3.3   \n",
      "35         39    10.2     9.8     9.2     8.6     8.7     9.4     9.2     8.7   \n",
      "36         40     6.3     6.1     5.5     5.0     5.5     5.9     5.7     5.6   \n",
      "37         41    10.9    10.5    10.3     9.5     9.2     9.9     9.8     9.6   \n",
      "38         42     8.4     8.3     7.9     7.2     7.5     8.1     8.2     8.2   \n",
      "39         44    12.2    11.9    11.4    10.6    10.7    10.7    11.3    11.1   \n",
      "40         45    11.2    10.9    10.4    10.0    10.4    11.0    10.9    10.8   \n",
      "41         46     5.6     5.6     5.5     4.8     4.4     4.5     4.2     4.4   \n",
      "42         47    10.2     9.8     9.5     8.9     8.9     9.8     9.4     9.2   \n",
      "43         48     8.5     8.2     8.1     7.7     8.0     8.7     8.7     8.4   \n",
      "44         49     8.1     8.1     7.9     7.6     7.5     8.0     7.4     7.2   \n",
      "45         50     6.7     6.3     6.3     6.1     5.6     5.7     5.5     5.2   \n",
      "46         51     7.2     6.9     6.6     6.1     6.4     6.8     6.7     6.8   \n",
      "47         53     9.8     9.6     9.2     8.4     8.5     8.6     8.4     8.2   \n",
      "48         54     9.3     9.3     8.7     7.8     7.6     8.0     7.7     7.8   \n",
      "49         55     8.5     8.7     8.4     7.7     7.4     8.1     7.6     7.4   \n",
      "50         56     7.7     7.2     6.9     6.5     6.0     5.8     5.5     5.4   \n",
      "\n",
      "    11-Sep  ...  20-Mar  20-Apr  20-May  20-Jun  20-Jul  20-Aug  20-Sep  \\\n",
      "0      9.5  ...     2.8    12.7     7.6     8.0     7.9     7.3     6.8   \n",
      "1      7.0  ...     6.2    12.4    12.0    11.2    10.2     6.2     6.5   \n",
      "2      9.5  ...     5.2    14.2    10.7    10.8    10.9     7.1     7.0   \n",
      "3      7.7  ...     4.2     9.7     8.7     7.9     7.5     6.3     5.8   \n",
      "4     11.7  ...     5.1    16.0    15.5    14.1    13.6    12.3    10.5   \n",
      "5      8.3  ...     5.0    12.2    11.7    11.4     7.5     7.0     6.8   \n",
      "6      8.8  ...     4.3     8.4    11.6    11.4    11.5     8.3     8.2   \n",
      "7      7.5  ...     5.2    13.3    13.6    13.3     8.6     7.7     7.3   \n",
      "8     10.5  ...     5.5    10.6     9.0     9.2     9.5     8.9     8.8   \n",
      "9     10.0  ...     5.0    13.9    14.3    11.7    11.9     8.0     7.3   \n",
      "10    10.1  ...     3.7    12.2     9.5     8.7     8.1     7.0     6.4   \n",
      "11     7.2  ...     2.1    21.9    21.9    14.4    14.2    14.1    15.3   \n",
      "12     7.4  ...     3.3    11.6     8.5     6.8     5.7     4.3     5.5   \n",
      "13     9.8  ...     4.0    16.3    15.3    14.4    12.4    11.0    10.1   \n",
      "14     8.7  ...     3.7    16.5    11.9    10.3     8.9     7.2     6.0   \n",
      "15     5.3  ...     3.5    11.0     8.3     7.3     5.9     4.9     4.2   \n",
      "16     6.2  ...     3.5    12.5     9.3     6.8     7.3     6.4     5.9   \n",
      "17     9.1  ...     4.9    16.7    11.1     5.9     6.1     5.2     5.2   \n",
      "18     7.5  ...     5.3    12.7    13.5    10.3    10.0     8.3     8.2   \n",
      "19     6.9  ...     4.3     9.8     8.7     5.1     8.4     4.3     4.0   \n",
      "20     7.2  ...     3.9     8.8     9.3     8.6     8.8     8.5     6.9   \n",
      "21     7.1  ...     3.1    16.3    15.4    14.8    10.1     9.1     8.9   \n",
      "22     9.7  ...     4.5    23.6    21.1    14.2     9.5     8.3     7.8   \n",
      "23     5.8  ...     4.5     9.1    11.1     8.8     7.6     6.3     5.5   \n",
      "24     9.7  ...     6.2    15.4    11.5    10.3     9.6     7.7     7.0   \n",
      "25     8.2  ...     4.4    12.3     9.7     8.1     7.3     6.1     4.8   \n",
      "26     5.8  ...     4.7    12.0     8.9     7.3     6.2     5.2     4.5   \n",
      "27     4.1  ...     3.5     7.4     5.4     6.6     4.7     3.9     3.7   \n",
      "28    13.4  ...     6.7    29.7    24.6    15.5    16.8    14.4    13.0   \n",
      "29     5.3  ...     3.1    16.1    13.5    10.2     8.1     6.3     5.4   \n",
      "30     9.3  ...     4.2    16.4    16.6    16.1    13.6    10.9     7.7   \n",
      "31     7.3  ...     5.5     9.7    10.0    10.2    13.4     9.4     8.6   \n",
      "32     8.3  ...     4.4    16.2    15.7    14.8    14.8    11.6     9.9   \n",
      "33     9.9  ...     4.0    13.2    13.7     8.9     9.3     6.9     7.1   \n",
      "34     2.8  ...     3.2     8.9     8.4     6.3     6.0     5.8     4.1   \n",
      "35     8.6  ...     5.8    16.7    14.6    10.3     9.5     8.6     7.3   \n",
      "36     5.5  ...     3.4    12.7     9.9     8.4     7.3     6.1     5.5   \n",
      "37     9.0  ...     4.3    13.1    11.6    10.4    10.0     8.3     7.3   \n",
      "38     7.5  ...     5.6    15.9    13.7    13.2    13.5    10.2     7.0   \n",
      "39    10.7  ...     4.8    17.5    13.6    10.2    13.8    12.5    10.3   \n",
      "40    10.2  ...     3.1    11.0    11.4     7.8     7.9     5.4     5.1   \n",
      "41     4.0  ...     3.5     9.5     7.1     5.7     5.1     4.6     3.6   \n",
      "42     8.9  ...     4.3    15.6     9.8     9.9     9.4     7.8     7.6   \n",
      "43     8.1  ...     5.1    12.7    11.8    10.3     9.6     6.9     8.0   \n",
      "44     6.4  ...     2.9    10.2     7.6     6.4     5.5     4.8     4.0   \n",
      "45     5.2  ...     2.9    15.0     9.4     7.9     6.6     5.0     4.5   \n",
      "46     6.6  ...     2.8    11.0     8.6     8.9     8.1     7.1     6.4   \n",
      "47     8.0  ...     5.8    16.3    12.7    10.8    10.7     8.6     7.6   \n",
      "48     7.2  ...     6.2    15.6    12.3    10.1     9.5     8.3     7.2   \n",
      "49     6.9  ...     3.8    14.9    10.7     8.6     7.3     5.8     4.9   \n",
      "50     5.4  ...     5.9     5.8     8.7     7.3     6.8     5.9     5.5   \n",
      "\n",
      "    20-Oct  20-Nov  20-Dec  \n",
      "0      4.3     3.8     3.5  \n",
      "1      5.9     6.3     6.6  \n",
      "2      6.4     6.4     6.7  \n",
      "3      4.8     4.8     4.7  \n",
      "4      9.3     8.3     9.1  \n",
      "5      6.6     6.7     6.9  \n",
      "6      7.7     7.5     7.7  \n",
      "7      5.1     5.1     5.8  \n",
      "8      8.2     8.4     8.8  \n",
      "9      5.6     5.0     4.2  \n",
      "10     5.4     5.3     5.6  \n",
      "11    14.0    10.4     9.3  \n",
      "12     4.2     4.1     4.0  \n",
      "13     7.5     7.6     7.9  \n",
      "14     5.1     4.8     4.4  \n",
      "15     3.4     3.7     4.1  \n",
      "16     4.1     4.2     4.2  \n",
      "17     4.9     5.1     5.4  \n",
      "18     7.5     7.3     7.3  \n",
      "19     4.2     4.7     5.2  \n",
      "20     6.5     6.6     6.7  \n",
      "21     8.1     7.7     7.3  \n",
      "22     7.2     7.4     8.3  \n",
      "23     4.6     4.3     4.9  \n",
      "24     6.2     6.3     6.5  \n",
      "25     4.0     4.2     4.6  \n",
      "26     4.1     4.3     4.6  \n",
      "27     3.2     2.9     3.0  \n",
      "28    11.6     8.4     8.2  \n",
      "29     4.2     4.0     3.7  \n",
      "30     7.1     9.6     7.2  \n",
      "31     8.0     8.1     8.3  \n",
      "32     8.3     8.3     8.5  \n",
      "33     6.4     6.3     6.1  \n",
      "34     3.7     4.3     4.8  \n",
      "35     4.9     4.9     5.3  \n",
      "36     4.9     4.7     4.6  \n",
      "37     6.5     6.1     6.2  \n",
      "38     6.4     6.5     6.9  \n",
      "39     6.4     7.7     7.8  \n",
      "40     5.0     5.4     5.9  \n",
      "41     3.2     3.3     3.5  \n",
      "42     7.4     5.1     5.6  \n",
      "43     6.9     6.9     6.7  \n",
      "44     3.4     3.2     3.0  \n",
      "45     2.9     3.2     3.3  \n",
      "46     5.7     5.5     5.7  \n",
      "47     6.3     6.5     6.6  \n",
      "48     6.3     6.5     7.2  \n",
      "49     4.3     4.1     4.0  \n",
      "50     4.4     4.8     5.3  \n",
      "\n",
      "[51 rows x 121 columns]>\n",
      "------\n",
      "Region           int64\n",
      "Division         int64\n",
      "State (FIPS)     int64\n",
      "Name            object\n",
      "dtype: object\n",
      "(64, 4)\n",
      "<bound method NDFrame.head of     Region  Division  State (FIPS)                  Name\n",
      "0        1         0             0      Northeast Region\n",
      "1        1         1             0  New England Division\n",
      "2        1         1             9           Connecticut\n",
      "3        1         1            23                 Maine\n",
      "4        1         1            25         Massachusetts\n",
      "..     ...       ...           ...                   ...\n",
      "59       4         9             2                Alaska\n",
      "60       4         9             6            California\n",
      "61       4         9            15                Hawaii\n",
      "62       4         9            41                Oregon\n",
      "63       4         9            53            Washington\n",
      "\n",
      "[64 rows x 4 columns]>\n"
     ]
    }
   ],
   "source": [
    "print(df.dtypes)\n",
    "print(df.shape)\n",
    "print(df.head)\n",
    "print('------')\n",
    "print(dfstates.dtypes)\n",
    "print(dfstates.shape)\n",
    "print(dfstates.head)"
   ]
  },
  {
   "cell_type": "markdown",
   "metadata": {},
   "source": [
    "In the second data frame, I think that Region being a string would be more useful. There are also a few rows that do not correspond to a state (i.e \"Northeast Region\", \"New England Division\")"
   ]
  },
  {
   "cell_type": "markdown",
   "metadata": {},
   "source": [
    "**Part B:**  The official US census divides the US into 4 super-regions, [shown here](https://www2.census.gov/geo/pdfs/maps-data/maps/reference/us_regdiv.pdf).  Add a column for `Region` and assign all of the regions to their correct region.  \n",
    "\n",
    "Unfortunately, the data wasn't given with these regions, so we have to add them in using the second data file.  We also only have odd codes for each of the states, instead of their names!  Add both `\"State\"` and `\"Region:` columns to the employment data frame with the actual state names and their region numbers or names. You can match IDs from `State (FIPS)` in the `stategeocodes.csv` to the `Series ID` from `employment.csv`.\n"
   ]
  },
  {
   "cell_type": "code",
   "execution_count": 24,
   "metadata": {},
   "outputs": [
    {
     "name": "stdout",
     "output_type": "stream",
     "text": [
      "<bound method NDFrame.head of     Series ID  11-Jan  11-Feb  11-Mar  11-Apr  11-May  11-Jun  11-Jul  11-Aug  \\\n",
      "0           1    10.7    10.3     9.8     9.2     9.3    10.3    10.1     9.8   \n",
      "1           2     9.0     8.9     8.6     8.0     7.6     7.8     7.0     6.7   \n",
      "2           4    10.1     9.6     9.3     9.1     8.9    10.4    10.2     9.8   \n",
      "3           5     8.9     8.7     8.0     7.5     7.8     8.3     8.3     7.9   \n",
      "4           6    12.7    12.4    12.3    11.7    11.5    12.2    12.4    12.1   \n",
      "5           8     9.5     9.4     9.1     8.5     8.9     8.7     8.5     8.5   \n",
      "6           9    10.1     9.8     9.4     8.8     9.0     9.3     9.3     9.2   \n",
      "7          10     8.6     8.4     7.9     7.4     7.2     8.0     7.9     7.8   \n",
      "8          11    10.2    10.1    10.0     9.4     9.9    11.0    10.9    10.7   \n",
      "9          12    10.8    10.3    10.1     9.8     9.9    10.4    10.4    10.3   \n",
      "10         13    10.7    10.4    10.1     9.8    10.0    10.7    10.6    10.4   \n",
      "11         15     6.9     6.7     6.5     6.4     6.7     7.6     7.0     7.0   \n",
      "12         16     9.9     9.5     9.3     8.5     7.7     7.8     7.8     7.6   \n",
      "13         17    10.2    10.0     9.7     9.3     9.4    10.2    10.3    10.2   \n",
      "14         18     9.9     9.6     9.1     8.3     8.5     9.1     9.1     9.1   \n",
      "15         19     6.8     6.4     6.2     5.4     5.3     5.8     5.4     5.6   \n",
      "16         20     7.2     7.1     6.7     6.1     6.3     6.6     6.8     6.6   \n",
      "17         21    10.5    10.4     9.9     9.1     9.4     9.8     9.9     9.1   \n",
      "18         22     8.3     7.4     7.3     6.9     7.2     8.3     8.0     7.7   \n",
      "19         23     9.2     9.1     8.7     8.1     7.8     7.6     7.3     6.9   \n",
      "20         24     7.9     7.8     7.4     6.9     7.2     7.7     7.6     7.5   \n",
      "21         25     8.3     8.0     7.6     7.0     7.1     7.5     7.5     7.0   \n",
      "22         26    11.0    10.8    10.4     9.7     9.9    10.5    11.2    10.2   \n",
      "23         27     7.7     7.5     7.4     6.6     6.3     6.8     7.2     6.3   \n",
      "24         28    10.1    10.0     9.6     9.2     9.8    10.9    10.6     9.9   \n",
      "25         29    10.0     9.8     9.3     8.4     8.6     8.9     8.8     8.9   \n",
      "26         30     8.3     7.9     7.7     6.7     6.1     6.6     6.2     6.1   \n",
      "27         31     5.1     5.0     4.8     4.3     4.3     4.8     4.5     4.4   \n",
      "28         32    14.1    13.6    13.4    13.3    13.1    13.6    13.6    13.6   \n",
      "29         33     6.3     6.1     5.7     5.2     5.3     5.5     5.5     5.5   \n",
      "30         34    10.0     9.9     9.6     9.0     9.2     9.5     9.7     9.3   \n",
      "31         35     7.7     7.4     6.9     6.6     6.7     7.9     8.0     7.6   \n",
      "32         36     9.0     8.9     8.3     7.9     7.9     8.2     8.5     8.4   \n",
      "33         37    11.3    10.7    10.3     9.8    10.1    10.6    10.6    10.5   \n",
      "34         38     4.2     4.1     4.0     3.4     3.0     3.7     3.2     3.3   \n",
      "35         39    10.2     9.8     9.2     8.6     8.7     9.4     9.2     8.7   \n",
      "36         40     6.3     6.1     5.5     5.0     5.5     5.9     5.7     5.6   \n",
      "37         41    10.9    10.5    10.3     9.5     9.2     9.9     9.8     9.6   \n",
      "38         42     8.4     8.3     7.9     7.2     7.5     8.1     8.2     8.2   \n",
      "39         44    12.2    11.9    11.4    10.6    10.7    10.7    11.3    11.1   \n",
      "40         45    11.2    10.9    10.4    10.0    10.4    11.0    10.9    10.8   \n",
      "41         46     5.6     5.6     5.5     4.8     4.4     4.5     4.2     4.4   \n",
      "42         47    10.2     9.8     9.5     8.9     8.9     9.8     9.4     9.2   \n",
      "43         48     8.5     8.2     8.1     7.7     8.0     8.7     8.7     8.4   \n",
      "44         49     8.1     8.1     7.9     7.6     7.5     8.0     7.4     7.2   \n",
      "45         50     6.7     6.3     6.3     6.1     5.6     5.7     5.5     5.2   \n",
      "46         51     7.2     6.9     6.6     6.1     6.4     6.8     6.7     6.8   \n",
      "47         53     9.8     9.6     9.2     8.4     8.5     8.6     8.4     8.2   \n",
      "48         54     9.3     9.3     8.7     7.8     7.6     8.0     7.7     7.8   \n",
      "49         55     8.5     8.7     8.4     7.7     7.4     8.1     7.6     7.4   \n",
      "50         56     7.7     7.2     6.9     6.5     6.0     5.8     5.5     5.4   \n",
      "\n",
      "    11-Sep  ...  20-May  20-Jun  20-Jul  20-Aug  20-Sep  20-Oct  20-Nov  \\\n",
      "0      9.5  ...     7.6     8.0     7.9     7.3     6.8     4.3     3.8   \n",
      "1      7.0  ...    12.0    11.2    10.2     6.2     6.5     5.9     6.3   \n",
      "2      9.5  ...    10.7    10.8    10.9     7.1     7.0     6.4     6.4   \n",
      "3      7.7  ...     8.7     7.9     7.5     6.3     5.8     4.8     4.8   \n",
      "4     11.7  ...    15.5    14.1    13.6    12.3    10.5     9.3     8.3   \n",
      "5      8.3  ...    11.7    11.4     7.5     7.0     6.8     6.6     6.7   \n",
      "6      8.8  ...    11.6    11.4    11.5     8.3     8.2     7.7     7.5   \n",
      "7      7.5  ...    13.6    13.3     8.6     7.7     7.3     5.1     5.1   \n",
      "8     10.5  ...     9.0     9.2     9.5     8.9     8.8     8.2     8.4   \n",
      "9     10.0  ...    14.3    11.7    11.9     8.0     7.3     5.6     5.0   \n",
      "10    10.1  ...     9.5     8.7     8.1     7.0     6.4     5.4     5.3   \n",
      "11     7.2  ...    21.9    14.4    14.2    14.1    15.3    14.0    10.4   \n",
      "12     7.4  ...     8.5     6.8     5.7     4.3     5.5     4.2     4.1   \n",
      "13     9.8  ...    15.3    14.4    12.4    11.0    10.1     7.5     7.6   \n",
      "14     8.7  ...    11.9    10.3     8.9     7.2     6.0     5.1     4.8   \n",
      "15     5.3  ...     8.3     7.3     5.9     4.9     4.2     3.4     3.7   \n",
      "16     6.2  ...     9.3     6.8     7.3     6.4     5.9     4.1     4.2   \n",
      "17     9.1  ...    11.1     5.9     6.1     5.2     5.2     4.9     5.1   \n",
      "18     7.5  ...    13.5    10.3    10.0     8.3     8.2     7.5     7.3   \n",
      "19     6.9  ...     8.7     5.1     8.4     4.3     4.0     4.2     4.7   \n",
      "20     7.2  ...     9.3     8.6     8.8     8.5     6.9     6.5     6.6   \n",
      "21     7.1  ...    15.4    14.8    10.1     9.1     8.9     8.1     7.7   \n",
      "22     9.7  ...    21.1    14.2     9.5     8.3     7.8     7.2     7.4   \n",
      "23     5.8  ...    11.1     8.8     7.6     6.3     5.5     4.6     4.3   \n",
      "24     9.7  ...    11.5    10.3     9.6     7.7     7.0     6.2     6.3   \n",
      "25     8.2  ...     9.7     8.1     7.3     6.1     4.8     4.0     4.2   \n",
      "26     5.8  ...     8.9     7.3     6.2     5.2     4.5     4.1     4.3   \n",
      "27     4.1  ...     5.4     6.6     4.7     3.9     3.7     3.2     2.9   \n",
      "28    13.4  ...    24.6    15.5    16.8    14.4    13.0    11.6     8.4   \n",
      "29     5.3  ...    13.5    10.2     8.1     6.3     5.4     4.2     4.0   \n",
      "30     9.3  ...    16.6    16.1    13.6    10.9     7.7     7.1     9.6   \n",
      "31     7.3  ...    10.0    10.2    13.4     9.4     8.6     8.0     8.1   \n",
      "32     8.3  ...    15.7    14.8    14.8    11.6     9.9     8.3     8.3   \n",
      "33     9.9  ...    13.7     8.9     9.3     6.9     7.1     6.4     6.3   \n",
      "34     2.8  ...     8.4     6.3     6.0     5.8     4.1     3.7     4.3   \n",
      "35     8.6  ...    14.6    10.3     9.5     8.6     7.3     4.9     4.9   \n",
      "36     5.5  ...     9.9     8.4     7.3     6.1     5.5     4.9     4.7   \n",
      "37     9.0  ...    11.6    10.4    10.0     8.3     7.3     6.5     6.1   \n",
      "38     7.5  ...    13.7    13.2    13.5    10.2     7.0     6.4     6.5   \n",
      "39    10.7  ...    13.6    10.2    13.8    12.5    10.3     6.4     7.7   \n",
      "40    10.2  ...    11.4     7.8     7.9     5.4     5.1     5.0     5.4   \n",
      "41     4.0  ...     7.1     5.7     5.1     4.6     3.6     3.2     3.3   \n",
      "42     8.9  ...     9.8     9.9     9.4     7.8     7.6     7.4     5.1   \n",
      "43     8.1  ...    11.8    10.3     9.6     6.9     8.0     6.9     6.9   \n",
      "44     6.4  ...     7.6     6.4     5.5     4.8     4.0     3.4     3.2   \n",
      "45     5.2  ...     9.4     7.9     6.6     5.0     4.5     2.9     3.2   \n",
      "46     6.6  ...     8.6     8.9     8.1     7.1     6.4     5.7     5.5   \n",
      "47     8.0  ...    12.7    10.8    10.7     8.6     7.6     6.3     6.5   \n",
      "48     7.2  ...    12.3    10.1     9.5     8.3     7.2     6.3     6.5   \n",
      "49     6.9  ...    10.7     8.6     7.3     5.8     4.9     4.3     4.1   \n",
      "50     5.4  ...     8.7     7.3     6.8     5.9     5.5     4.4     4.8   \n",
      "\n",
      "    20-Dec  Region                 State  \n",
      "0      3.5       3               Alabama  \n",
      "1      6.6       4                Alaska  \n",
      "2      6.7       4               Arizona  \n",
      "3      4.7       3              Arkansas  \n",
      "4      9.1       4            California  \n",
      "5      6.9       4              Colorado  \n",
      "6      7.7       1           Connecticut  \n",
      "7      5.8       3              Delaware  \n",
      "8      8.8       3  District of Columbia  \n",
      "9      4.2       3               Florida  \n",
      "10     5.6       3               Georgia  \n",
      "11     9.3       4                Hawaii  \n",
      "12     4.0       4                 Idaho  \n",
      "13     7.9       2              Illinois  \n",
      "14     4.4       2               Indiana  \n",
      "15     4.1       2                  Iowa  \n",
      "16     4.2       2                Kansas  \n",
      "17     5.4       3              Kentucky  \n",
      "18     7.3       3             Louisiana  \n",
      "19     5.2       1                 Maine  \n",
      "20     6.7       3              Maryland  \n",
      "21     7.3       1         Massachusetts  \n",
      "22     8.3       2              Michigan  \n",
      "23     4.9       2             Minnesota  \n",
      "24     6.5       3           Mississippi  \n",
      "25     4.6       2              Missouri  \n",
      "26     4.6       4               Montana  \n",
      "27     3.0       2              Nebraska  \n",
      "28     8.2       4                Nevada  \n",
      "29     3.7       1         New Hampshire  \n",
      "30     7.2       1            New Jersey  \n",
      "31     8.3       4            New Mexico  \n",
      "32     8.5       1              New York  \n",
      "33     6.1       3        North Carolina  \n",
      "34     4.8       2          North Dakota  \n",
      "35     5.3       2                  Ohio  \n",
      "36     4.6       3              Oklahoma  \n",
      "37     6.2       4                Oregon  \n",
      "38     6.9       1          Pennsylvania  \n",
      "39     7.8       1          Rhode Island  \n",
      "40     5.9       3        South Carolina  \n",
      "41     3.5       2          South Dakota  \n",
      "42     5.6       3             Tennessee  \n",
      "43     6.7       3                 Texas  \n",
      "44     3.0       4                  Utah  \n",
      "45     3.3       1               Vermont  \n",
      "46     5.7       3              Virginia  \n",
      "47     6.6       4            Washington  \n",
      "48     7.2       3         West Virginia  \n",
      "49     4.0       2             Wisconsin  \n",
      "50     5.3       4               Wyoming  \n",
      "\n",
      "[51 rows x 123 columns]>\n"
     ]
    }
   ],
   "source": [
    "df_original=df\n",
    "Region1=[0] * df.shape[0] #create empty list for region\n",
    "State1=['the'] * df.shape[0] #create empty list for states\n",
    "df = df.assign(Region=Region1) #add empty columns to database\n",
    "df = df.assign(State=State1)\n",
    "for i in range(0, df.shape[0]): #loop through first dataframe\n",
    "    for j in range(0, dfstates.shape[0]): #loop through second dataframe to find match\n",
    "        if (df['Series ID'].values[i]==dfstates['State (FIPS)'].values[j]): #match on specified values above\n",
    "            df['Region'].values[i]=dfstates['Region'].values[j] #set region\n",
    "            df['State'].values[i]=dfstates['Name'].values[j] #set state\n",
    "print(df.head) #print out results"
   ]
  },
  {
   "cell_type": "markdown",
   "metadata": {},
   "source": [
    "**Part C:**\n",
    "\n",
    "As a sanity check, loop over all the unique regions you've created and print out how many rows of your data frame are in that region.  You should find:\n",
    "\n",
    "1) 9 in the Northeast\n",
    "\n",
    "2) 12 in the Midwest\n",
    "\n",
    "3) 17 in the South\n",
    "\n",
    "4) 13 in the West"
   ]
  },
  {
   "cell_type": "code",
   "execution_count": 25,
   "metadata": {},
   "outputs": [
    {
     "name": "stdout",
     "output_type": "stream",
     "text": [
      "Northeast: 9\n",
      "Midwest: 12\n",
      "South: 17\n",
      "West: 13\n"
     ]
    }
   ],
   "source": [
    "Northeast=0 #initate values at 0\n",
    "Midwest=0\n",
    "South=0\n",
    "West=0\n",
    "for i in range(0, df.shape[0]):\n",
    "    if (df[\"Region\"].values[i]==1): #sum up values in Northeast\n",
    "        Northeast=Northeast+1\n",
    "    elif (df[\"Region\"].values[i]==2): #sum up values in Midwest\n",
    "        Midwest=Midwest+1\n",
    "    elif (df[\"Region\"].values[i]==3): #sum up values in South\n",
    "        South=South+1\n",
    "    elif (df[\"Region\"].values[i]==4): #sum up values in West\n",
    "        West=West+1\n",
    "print(\"Northeast:\" , Northeast) #print out values\n",
    "print(\"Midwest:\" , Midwest)\n",
    "print(\"South:\" , South)\n",
    "print(\"West:\" , West)"
   ]
  },
  {
   "cell_type": "markdown",
   "metadata": {},
   "source": [
    "**Part D:** Create a histogram of the entire data frame.  Describe it's general shape (skewness or symmetry) and whether or not it has any outliers.\n",
    "\n",
    "(Check out `np.reshape` for a nice way to turn a large matrix/array into something 1-dimensional, for easier plotting!)"
   ]
  },
  {
   "cell_type": "code",
   "execution_count": 26,
   "metadata": {},
   "outputs": [
    {
     "data": {
      "text/plain": [
       "(array([4.203e+03, 1.822e+03, 1.020e+02, 9.000e+00, 8.000e+00, 6.000e+00,\n",
       "        6.000e+00, 4.000e+00, 6.000e+00, 5.000e+00]),\n",
       " array([ 1. ,  6.5, 12. , 17.5, 23. , 28.5, 34. , 39.5, 45. , 50.5, 56. ]),\n",
       " <BarContainer object of 10 artists>)"
      ]
     },
     "execution_count": 26,
     "metadata": {},
     "output_type": "execute_result"
    },
    {
     "data": {
      "image/png": "[encoded data removed]",
      "text/plain": [
       "<Figure size 432x288 with 1 Axes>"
      ]
     },
     "metadata": {
      "needs_background": "light"
     },
     "output_type": "display_data"
    }
   ],
   "source": [
    "plt.hist(df_original.values.flatten())"
   ]
  },
  {
   "cell_type": "markdown",
   "metadata": {},
   "source": [
    "The histogram is right skewed with a few outliers above 30."
   ]
  },
  {
   "cell_type": "markdown",
   "metadata": {},
   "source": [
    "**Part E:** Create a single figure with a series of box plots (4 side-by-side boxes) of the employment data grouped by each region."
   ]
  },
  {
   "cell_type": "code",
   "execution_count": 27,
   "metadata": {},
   "outputs": [
    {
     "data": {
      "image/png": "[encoded data removed]",
      "text/plain": [
       "<Figure size 720x504 with 1 Axes>"
      ]
     },
     "metadata": {
      "needs_background": "light"
     },
     "output_type": "display_data"
    },
    {
     "name": "stdout",
     "output_type": "stream",
     "text": [
      "Northeast: 1\n",
      "Midwest: 2\n",
      "South: 3\n",
      "West: 4\n"
     ]
    }
   ],
   "source": [
    "Northeast=df.loc[df[\"Region\"]==1] #seperate northeast\n",
    "del Northeast ['Region'] #remove columns that do not need to be graphed\n",
    "del Northeast [\"State\"]\n",
    "\n",
    "Midwest=df.loc[df[\"Region\"]==2] #seperate midwest\n",
    "del Midwest ['Region'] #remove columns that do not need to be graphed\n",
    "del Midwest [\"State\"]\n",
    "\n",
    "South=df.loc[df[\"Region\"]==3] #seperate South\n",
    "del South ['Region'] #remove columns that do not need to be graphed\n",
    "del South [\"State\"]\n",
    "\n",
    "West=df.loc[df[\"Region\"]==4] #seperate West\n",
    "del West ['Region'] #remove columns that do not need to be graphed\n",
    "del West [\"State\"]\n",
    "\n",
    "\n",
    "data_1 = Northeast.values.flatten()\n",
    "data_2 = Midwest.values.flatten()\n",
    "data_3 = South.values.flatten()\n",
    "data_4 = West.values.flatten()\n",
    "data = [data_1, data_2, data_3, data_4]\n",
    " \n",
    "fig = plt.figure(figsize =(10, 7))\n",
    "ax = fig.add_axes([0, 0, 1, 1])\n",
    "\n",
    "plt.boxplot(data)\n",
    "plt.show()\n",
    "\n",
    "print('Northeast: 1')\n",
    "print('Midwest: 2')\n",
    "print('South: 3')\n",
    "print('West: 4')"
   ]
  },
  {
   "cell_type": "markdown",
   "metadata": {},
   "source": [
    "**Part F:** Create a new data frame with 12 columns that groups all of the data according to month of the year.  You can combine all the locations into a single column for each month.  \n",
    "\n",
    "(*Hint*: Every 12th data column should be from the same month.)\n",
    "\n",
    "Then create a single figure with a series of box plots (12 side-by-side boxes) of the employment data grouped by each month.\n"
   ]
  },
  {
   "cell_type": "code",
   "execution_count": 28,
   "metadata": {},
   "outputs": [
    {
     "name": "stdout",
     "output_type": "stream",
     "text": [
      "<bound method NDFrame.head of    Jan  Feb  Mar  Apr  May  Jun  Jul  Aug  Sep  Oct  Nov  Dec\n",
      "0  462  449  432  403  405  431  426  415  400  388  377  383\n",
      "1  413  407  390  358  364  389  392  374  347  345  339  355\n",
      "2  401  380  359  333  337  363  355  339  323  322  309  305\n",
      "3  336  336  323  278  287  299  307  294  271  260  263  257\n",
      "4  296  284  271  247  257  267  266  248  233  231  232  234\n",
      "5  261  258  252  230  223  250  247  240  229  222  212  219\n",
      "6  253  243  224  201  200  220  221  217  195  186  191  193\n",
      "7  224  219  206  183  175  206  200  191  173  172  170  182\n",
      "8  221  204  197  167  168  191  195  184  162  163  163  166\n",
      "9  200  191  222  693  601  505  472  388  352  302  296  301>\n"
     ]
    },
    {
     "data": {
      "text/plain": [
       "<AxesSubplot:>"
      ]
     },
     "execution_count": 28,
     "metadata": {},
     "output_type": "execute_result"
    },
    {
     "data": {
      "image/png": "[encoded data removed]",
      "text/plain": [
       "<Figure size 720x504 with 1 Axes>"
      ]
     },
     "metadata": {
      "needs_background": "light"
     },
     "output_type": "display_data"
    }
   ],
   "source": [
    "df_months = pd.DataFrame()\n",
    "\n",
    "Jan1=[0] * 10 #create empty list for month\n",
    "Feb1=[0] * 10\n",
    "Mar1=[0] * 10 \n",
    "Apr1=[0] * 10 \n",
    "May1=[0] * 10\n",
    "Jun1=[0] * 10\n",
    "Jul1=[0] * 10\n",
    "Aug1=[0] * 10\n",
    "Sep1=[0] * 10\n",
    "Oct1=[0] * 10 \n",
    "Nov1=[0] * 10\n",
    "Dec1=[0] * 10 \n",
    "df_months = df_months.assign(Jan=Jan1) #add empty columns to database\n",
    "df_months = df_months.assign(Feb=Feb1)\n",
    "df_months = df_months.assign(Mar=Mar1)\n",
    "df_months = df_months.assign(Apr=Apr1)\n",
    "df_months = df_months.assign(May=May1)\n",
    "df_months = df_months.assign(Jun=Jun1)\n",
    "df_months = df_months.assign(Jul=Jul1)\n",
    "df_months = df_months.assign(Aug=Aug1)\n",
    "df_months = df_months.assign(Sep=Sep1)\n",
    "df_months = df_months.assign(Oct=Oct1)\n",
    "df_months = df_months.assign(Nov=Nov1)\n",
    "df_months = df_months.assign(Dec=Dec1)\n",
    "\n",
    "sum1=df_original.sum(axis=0) #sum up columns \n",
    "j=0 #set j to 0\n",
    "for i in range(1, len(sum1), 12): #for length of sum of columns iterating by 12\n",
    "    df_months['Jan'].values[j]=sum1[i] #add first to jan column \n",
    "    df_months['Feb'].values[j]=sum1[i+1] #add second to feb column \n",
    "    df_months['Mar'].values[j]=sum1[i+2]\n",
    "    df_months['Apr'].values[j]=sum1[i+3]\n",
    "    df_months['May'].values[j]=sum1[i+4]\n",
    "    df_months['Jun'].values[j]=sum1[i+5]\n",
    "    df_months['Jul'].values[j]=sum1[i+6]\n",
    "    df_months['Aug'].values[j]=sum1[i+7]\n",
    "    df_months['Sep'].values[j]=sum1[i+8]\n",
    "    df_months['Oct'].values[j]=sum1[i+9]\n",
    "    df_months['Nov'].values[j]=sum1[i+10]\n",
    "    df_months['Dec'].values[j]=sum1[i+11]\n",
    "    j=j+1 #iterate through j\n",
    "print(df_months.head)\n",
    "\n",
    "fig = plt.figure(figsize =(10, 7)) #make plot large enough to see\n",
    "df_months.boxplot(column=['Jan', 'Feb', 'Mar', 'Apr', 'May', 'Jun', 'Jul', 'Oct', 'Nov', 'Dec']) \n",
    "#create boxplot with each column\n"
   ]
  },
  {
   "cell_type": "markdown",
   "metadata": {},
   "source": [
    "**Part G:** Discuss the following:\n",
    "\n",
    "1) Does there appear to be larger differences between different *regions* or between different *months*?  Explain fully.  Speculate as to *why* one factor might matter more than the other.\n",
    "\n",
    "2) Are there any downsides to these kinds of groupings?  Can you think of anything that might make these types of comparisons more useful?\n"
   ]
  },
  {
   "cell_type": "markdown",
   "metadata": {},
   "source": [
    "1) There seems to be larger differences between different months. There is more deviation in not only the means but in the quartiles as well.  I think this is becasue the time of year has a larger affect on the job market.  The regions are too large to have a noticeable affect on the data (the average of such a large region is similar to the average of the whole data)\n",
    "\n",
    "2) A downside is that these groupings are very general.  Specifically, for the region breakdown, I think it would be helpful to look at one charatistic within each region.  An example of this could be age."
   ]
  },
  {
   "cell_type": "code",
   "execution_count": null,
   "metadata": {},
   "outputs": [],
   "source": []
  }
 ],
 "metadata": {
  "kernelspec": {
   "display_name": "Python 3",
   "language": "python",
   "name": "python3"
  },
  "language_info": {
   "codemirror_mode": {
    "name": "ipython",
    "version": 3
   },
   "file_extension": ".py",
   "mimetype": "text/x-python",
   "name": "python",
   "nbconvert_exporter": "python",
   "pygments_lexer": "ipython3",
   "version": "3.8.8"
  }
 },
 "nbformat": 4,
 "nbformat_minor": 2
}
