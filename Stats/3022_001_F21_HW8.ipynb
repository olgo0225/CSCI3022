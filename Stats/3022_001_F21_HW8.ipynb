{
 "cells": [
  {
   "cell_type": "markdown",
   "metadata": {},
   "source": [
    "<a id='top'></a>\n",
    "\n",
    "# CSCI3022 F21\n",
    "# Homework 8: Confidence, Testing, Small Samples\n",
    "***\n",
    "\n",
    "**Name**: Olivia Golden\n",
    "\n",
    "***\n",
    "\n",
    "This assignment is due on Canvas (as .ipynb) and Gradescope (as a .pdf) by **MIDNIGHT on Wed 17 Nov**. Your solutions to theoretical questions should be done in Markdown directly below the associated question.  Your solutions to computational questions should include any specified Python code and results as well as written commentary on your conclusions.  Remember that you are encouraged to discuss the problems with your classmates, but **you must write all code and solutions on your own**.\n",
    "\n",
    "**NOTES**: \n",
    "\n",
    "- Any relevant data sets should be available on Canvas. To make life easier on the graders if they need to run your code, do not change the relative path names here. Instead, move the files around on your computer.\n",
    "- If you're not familiar with typesetting math directly into Markdown then by all means, do your work on paper first and then typeset it later.  Here is a [reference guide](https://math.meta.stackexchange.com/questions/5020/mathjax-basic-tutorial-and-quick-reference) linked on Canvas on writing math in Markdown. **All** of your written commentary, justifications and mathematical work should be in Markdown.  I also recommend the [wikibook](https://en.wikibooks.org/wiki/LaTeX) for LaTex.\n",
    "- Because you can technically evaluate notebook cells is a non-linear order, it's a good idea to do **Kernel $\\rightarrow$ Restart & Run All** as a check before submitting your solutions.  That way if we need to run your code you will know that it will work as expected. \n",
    "- It is **bad form** to make your reader interpret numerical output from your code.  If a question asks you to compute some value from the data you should show your code output **AND** write a summary of the results in Markdown directly below your code. \n",
    "- 45 points of this assignment are in problems.  The remaining 5 are for neatness, style, and overall exposition of both code and text.\n",
    "- This probably goes without saying, but... For any question that asks you to calculate something, you **must show all work and justify your answers to receive credit**. Sparse or nonexistent work will receive sparse or nonexistent credit. \n",
    "\n",
    "---\n",
    "**Shortcuts:**  [Problem 1](#p1) | [Problem 2](#p2) |\n",
    "---"
   ]
  },
  {
   "cell_type": "code",
   "execution_count": 3,
   "metadata": {},
   "outputs": [],
   "source": [
    "import numpy as np\n",
    "import pandas as pd\n",
    "import matplotlib.pylab as plt\n",
    "import scipy.stats as stats\n",
    "import itertools\n",
    "%matplotlib inline"
   ]
  },
  {
   "cell_type": "markdown",
   "metadata": {},
   "source": [
    "<br>\n",
    "\n",
    "---\n",
    "<a/ id='p1'></a>\n",
    "[Back to top](#top)\n",
    "## Problem 1 (Small Samples; 20 points)\n",
    "\n",
    "Consider the `hubble.csv` data set we used in nb15. In that example, we used the large-sample normal approximation and used it to calculate a confidence interval for the mean of a galaxy's distance from Earth in Mega parsecs (column `x` of the data).\n",
    "\n",
    "Unfortunately, the data was only 24 observations!  What could we have done instead?\n"
   ]
  },
  {
   "cell_type": "code",
   "execution_count": 4,
   "metadata": {},
   "outputs": [
    {
     "name": "stdout",
     "output_type": "stream",
     "text": [
      "24\n"
     ]
    }
   ],
   "source": [
    "# Path to the data - select the path that works for you \n",
    "file_path = 'hubble.csv'\n",
    "\n",
    "# Load the data into a DataFrame \n",
    "df = pd.read_csv(file_path)\n",
    "df.head(5)"
   ]
  },
  {
   "cell_type": "markdown",
   "metadata": {},
   "source": [
    "\n",
    "**Part A**:\n",
    "\n",
    "Make a histogram of the data and overlay the theoretical density of the normal with mean $\\bar{X}$ and variance $s^2$.  How closely do the data follow the histogram?\n"
   ]
  },
  {
   "cell_type": "code",
   "execution_count": 3,
   "metadata": {},
   "outputs": [
    {
     "data": {
      "text/plain": [
       "[<matplotlib.lines.Line2D at 0x7fcc600fc4f0>]"
      ]
     },
     "execution_count": 3,
     "metadata": {},
     "output_type": "execute_result"
    },
    {
     "data": {
      "image/png": "[encoded data removed]",
      "text/plain": [
       "<Figure size 432x288 with 1 Axes>"
      ]
     },
     "metadata": {
      "needs_background": "light"
     },
     "output_type": "display_data"
    }
   ],
   "source": [
    "plt.hist(df['x'], density=True)\n",
    "mean=np.mean(df['x'])\n",
    "std=np.std(df['x'])\n",
    "x = np.arange(0,25)\n",
    "plt.plot(stats.norm.pdf(x, loc = mean, scale =std))"
   ]
  },
  {
   "cell_type": "markdown",
   "metadata": {},
   "source": [
    "It doesn't follow the normal curve very closely.  "
   ]
  },
  {
   "cell_type": "markdown",
   "metadata": {},
   "source": [
    "**Part B**:\n",
    "\n",
    "Things may not look perfectly normal in part A... but let's perform the tests that require normality anyways:\n",
    "\n",
    "For Part B only, assume each observation is independent and identically distributed as a normal random variable.\n",
    "\n",
    "- Create a 95% confidence interval for the mean of a galaxy's distance from Earth in Mega parsecs.\n",
    "- Create a 95% confidence interval for the standard deviation of a galaxy's distance from Earth in Mega parsecs."
   ]
  },
  {
   "cell_type": "code",
   "execution_count": 4,
   "metadata": {},
   "outputs": [
    {
     "name": "stdout",
     "output_type": "stream",
     "text": [
      "95% confidence for the mean\n",
      "(9.728282115953512, 14.380884550713152)\n",
      "95% confidence for the std\n",
      "(4.444647869059267, 7.918745978839454)\n"
     ]
    }
   ],
   "source": [
    "print(\"95% confidence for the mean\")\n",
    "print(stats.norm.interval(alpha=0.95, loc=np.mean(df['x']), scale=stats.sem(df['x'])))\n",
    "print(\"95% confidence for the std\")\n",
    "\n",
    "alpha = 0.05\n",
    "nx=25\n",
    "sx=np.std(df['x'])\n",
    "c2, c1 = stats.chi2.ppf(alpha/2, nx-1), stats.chi2.ppf(1-alpha/2, nx-1)\n",
    "print((np.sqrt((nx-1)*sx*sx/c1), np.sqrt((nx-1)*sx*sx/c2)))\n"
   ]
  },
  {
   "cell_type": "markdown",
   "metadata": {},
   "source": [
    "**Part C**:\n",
    "\n",
    "For part C only, assume each observation is independent and identically distributed but is **not** normally distributed.  Instead, use bootstrapping to:\n",
    "\n",
    "- Create a 95% confidence interval for the mean of a galaxy's distance from Earth in Mega parsecs.\n",
    "- Create a 95% confidence interval for the standard deviation of a galaxy's distance from Earth in Mega parsecs.\n",
    "- Create a 95% confidence interval for the interquartile range (both lower and upper quartiles) of a galaxy's distance from Earth in Mega parsecs.\n",
    "\n",
    "Use 10,000 bootstrapped samples to make the statistics above."
   ]
  },
  {
   "cell_type": "code",
   "execution_count": 5,
   "metadata": {},
   "outputs": [
    {
     "name": "stdout",
     "output_type": "stream",
     "text": [
      "95% CI for mean\n",
      "[10.13391667 13.9909375 ]\n",
      "95% CI for STD\n",
      "[4.44662861 6.54172521]\n",
      "95% CI for Upper Quartile\n",
      "[14.755  17.7625]\n",
      "95% CI for Lower Quartile\n",
      "[ 3.5275 11.6175]\n"
     ]
    }
   ],
   "source": [
    "means=[]\n",
    "std=[]\n",
    "upper=[]\n",
    "lower=[]\n",
    "nsamp=10000\n",
    "X=df['x']\n",
    "for i in range(nsamp):\n",
    "    newX=np.random.choice(X, size=len(X), replace=True)\n",
    "    means.append(np.mean(newX))\n",
    "    std.append(np.std(newX))\n",
    "    upper.append(np.quantile(newX, .75))\n",
    "    lower.append(np.quantile(newX, .25))\n",
    "    \n",
    "CI_mean=np.percentile(means, [5,95])\n",
    "CI_std=np.percentile(std, [5,95])\n",
    "CI_upper=np.percentile(upper, [5,95])\n",
    "CI_lower=np.percentile(lower, [5,95])\n",
    "print('95% CI for mean')\n",
    "print(CI_mean)\n",
    "print('95% CI for STD')\n",
    "print(CI_std)\n",
    "print('95% CI for Upper Quartile')\n",
    "print(CI_upper)\n",
    "print('95% CI for Lower Quartile')\n",
    "print(CI_lower)"
   ]
  },
  {
   "cell_type": "markdown",
   "metadata": {},
   "source": [
    "<br>\n",
    "\n",
    "---\n",
    "<a/ id='p2'></a>\n",
    "[Back to top](#top)\n",
    "\n",
    "## Problem 2 (Hypotheses and Simulation; 25 points)\n",
    "***\n",
    "\n",
    "In hypothesis testing, we typically ask \"what is the probability of observing *this* test statistic if everything is fair/random.\"  Often, we reach this probability via test statistics on known distributions (`Z`, `T`, proportions, sample variances, etc.).  We then draw conclusions like \"that doesn't look random!  It's extremely unlikely to happen under the **null hypothesis**, so we reject that hypothesis.\"\n",
    "\n",
    "However, if we can **simulate**, we can leverage our (arbitrarily) large sample size to generate the same probabilities used for hypothesis tests *without* converting into an intermediate distribution.  In other words, you should make **no distributional assumptions** in this problem.\n",
    "\n",
    "Suppose we're about to play a newly invented \"game\" of chance.\n",
    "\n",
    "In this game, you:\n",
    "\n",
    "    1) Roll a single (fair) 6-sided die.  The value of the upward face of the die is your score.\n",
    "    \n",
    "    2) Roll a number of 6-sided dice equal to your score in 1).  Add the value of the upward faces of the die to your score.\n",
    "    \n",
    "    3) Continue to roll a number additional dice equal to exactly what was face-up on your previous roll, adding the result to your score.\n",
    "    \n",
    "    4) If at any time, you've rolled 20 or more dice with the *same* value showing, do not roll again.  Simply add the current result to your score and stop.\n",
    "\n",
    "Not being in the mood to solve an incredibly tedious discrete probability problem, you decide to *simulate* the game to get a feeling for what a reasonable score is.\n",
    "\n",
    "One simulation might be:\n",
    "\n",
    "    1) Zach rolls a '5'.  Score is 5.\n",
    "    2) Zach rolls '1, 2, 2, 5, 6'.  Add 16, so score is now 21.\n",
    "    3) Zach rolls 16 dice.  He adds the resulting faces (in this case, 51) to his score, which is now 72.\n",
    "    4) Zach rolls 51 dice and adds the resulting 163 to his score, making a score of 235.\n",
    "    5) He rolls once more - 163 dice - adding 500 for a score of 735.  This is his final score, as this last roll included 35 \"4's\" as the most common die face (and 35 is 20 or more).\n",
    "\n",
    "**Part A**: Simulate 10,000 \"plays\" of this game, saving all of the final scores as well as the first roll of each.  Report the average final score.\n",
    "\n",
    "NB: `np.unique` can be a good way to check if you have 20 or more of one face."
   ]
  },
  {
   "cell_type": "code",
   "execution_count": 6,
   "metadata": {},
   "outputs": [
    {
     "name": "stdout",
     "output_type": "stream",
     "text": [
      "Average Final Score\n",
      "890.8853\n"
     ]
    }
   ],
   "source": [
    "import random\n",
    "\n",
    "def game():\n",
    "    first_roll=[] #initialize arrays\n",
    "    final_score=[]\n",
    "    for _ in range(10000): #repeat 1000 times\n",
    "        roll=random.randint(1,6) #fair die\n",
    "        first_roll.append(roll) \n",
    "        score=roll\n",
    "        sum_prev=roll \n",
    "        a=0 #break out of loop \n",
    "        while (a==0):\n",
    "            sum1=0 #set iteration sum to 0\n",
    "            rolls=[]\n",
    "            for i in range(sum_prev): #for the previous roll sum\n",
    "                roll=random.randint(1,6)\n",
    "                sum1+=roll\n",
    "                rolls.append(roll)\n",
    "            score+=sum1 #add to total score\n",
    "            sum_prev=sum1 #save to use for next roll \n",
    "            counts=np.unique(rolls, return_counts=True)[1] #counts of how many times a number appears\n",
    "            for i in range(len(counts)): \n",
    "                if (counts[i]>=20): #if larger than 19\n",
    "                    final_score.append(score) #add final sscore\n",
    "                    a=1\n",
    "                    break #break\n",
    "    return [first_roll, final_score]\n",
    "\n",
    "\n",
    "print(\"Average Final Score\")\n",
    "scores=game()[1]\n",
    "average=np.mean(scores)\n",
    "print(average)"
   ]
  },
  {
   "cell_type": "markdown",
   "metadata": {},
   "source": [
    "**Part B**: Create a density histogram of the final scores.  Label axes, and include a title.  Does this appear to be normally distributed? Why would we care?\n",
    "    "
   ]
  },
  {
   "cell_type": "code",
   "execution_count": 7,
   "metadata": {},
   "outputs": [
    {
     "data": {
      "text/plain": [
       "[<matplotlib.lines.Line2D at 0x7fcc601f4c40>]"
      ]
     },
     "execution_count": 7,
     "metadata": {},
     "output_type": "execute_result"
    },
    {
     "data": {
      "image/png": "[encoded data removed]",
      "text/plain": [
       "<Figure size 432x288 with 1 Axes>"
      ]
     },
     "metadata": {
      "needs_background": "light"
     },
     "output_type": "display_data"
    }
   ],
   "source": [
    "plt.hist(scores, density=True)\n",
    "mean=np.mean(scores)\n",
    "std=np.std(scores)\n",
    "x = np.arange(0,1850)\n",
    "plt.plot(stats.norm.pdf(x, loc = mean, scale =std))"
   ]
  },
  {
   "cell_type": "markdown",
   "metadata": {},
   "source": [
    "It is not normally distributed, so we cannot use CLT."
   ]
  },
  {
   "cell_type": "markdown",
   "metadata": {},
   "source": [
    "**Part C**: Your friend (who really hates losing) approaches you and says \"I'm pretty sure this game is unfair and your dice are loaded.  I played 10 times and my average score was a 500!  There's no way that should happen on fair dice.\"\n",
    "\n",
    "**C1**: What is your estimated probability that a single game scores 500 or less?\n",
    "    \n",
    "**C2**: What would you estimate the probability to be that an average score of 10 games is 500 or less?\n",
    "     \n",
    "**C3**: Suppose we were to create a 1-tailed hypothesis test of the form \"I reject the null hypothesis that fair dice were used if a set of 10 games has an average score less than or equal to $c$.\"  What would you choose for $c$ if you wanted a probability of Type I error of .01 or less?\n",
    "\n",
    "**C4**: What do you tell your friend?"
   ]
  },
  {
   "cell_type": "code",
   "execution_count": 8,
   "metadata": {},
   "outputs": [
    {
     "name": "stdout",
     "output_type": "stream",
     "text": [
      "Probability of a score of 500 or less\n",
      "0.1134\n",
      "Probability that an average score of 10 games is 500 or less\n",
      "0.0\n",
      "Value of C\n",
      "651\n"
     ]
    }
   ],
   "source": [
    "scores_500=0\n",
    "for i in range(len(scores)):\n",
    "    if (scores[i]<=500):\n",
    "        scores_500+=1\n",
    "print('Probability of a score of 500 or less')\n",
    "scores_500=scores_500/10000\n",
    "print(scores_500)\n",
    "\n",
    "def test(s):\n",
    "    count=0\n",
    "    count1=0\n",
    "    for i in range(0,len(scores),10):\n",
    "        newX=scores[i:i+9]\n",
    "        if (np.mean(newX)<=s): #if mean is less than or equal to input, increment counter\n",
    "            count+=1\n",
    "        count1+=1\n",
    "    return (count/count1)  \n",
    "\n",
    "print('Probability that an average score of 10 games is 500 or less')\n",
    "print(test(500))\n",
    "\n",
    "alpha=1\n",
    "c=round(average)\n",
    "while(alpha>.01):\n",
    "    alpha=test(c)\n",
    "    if (alpha<=.01):\n",
    "        print('Value of C')\n",
    "        print(c)\n",
    "        break\n",
    "    else:\n",
    "        c-=1        "
   ]
  },
  {
   "cell_type": "markdown",
   "metadata": {},
   "source": [
    "Since the average of their 10 games was 500 which is below c, we would reject the null hypothesis that fair dice were used."
   ]
  },
  {
   "cell_type": "markdown",
   "metadata": {},
   "source": [
    "**Part D**: You decide that if you wanted to cheat your friend, it would make way more sense to weight the *first* die roll than try to find tens or hundreds of weighted dice.  Carefully justifying your answer with both numerical and visual results, how would you weight the die on the *first* roll to **minimize** your friends score?"
   ]
  },
  {
   "cell_type": "markdown",
   "metadata": {
    "scrolled": true
   },
   "source": [
    "I would weigh the first roll so that the lower numbers were more likely to get chosen.  1,2,3 would have a $\\frac{10}{33}$ probabiltiy of getting chosen while 4,5,6 would have a $\\frac{1}{33}$ probability of getting chosen."
   ]
  },
  {
   "cell_type": "code",
   "execution_count": 9,
   "metadata": {},
   "outputs": [
    {
     "name": "stdout",
     "output_type": "stream",
     "text": [
      "Average Final Score\n",
      "848.0837\n"
     ]
    }
   ],
   "source": [
    "def game_weighted():\n",
    "    first_roll=[]\n",
    "    final_score=[]\n",
    "    for _ in range(10000):\n",
    "        if(random.random()<=10/11): #higher chance of getting a lower intial roll\n",
    "            roll=random.randint(1,3)\n",
    "        else:\n",
    "            roll=random.randint(4,6)\n",
    "        first_roll.append(roll)\n",
    "        score=roll\n",
    "        sum_prev=roll\n",
    "        a=0\n",
    "        while (a==0):\n",
    "            sum1=0\n",
    "            rolls=[]\n",
    "            for i in range(sum_prev):\n",
    "                roll=random.randint(1,6)\n",
    "                sum1+=roll\n",
    "                rolls.append(roll)\n",
    "            score+=sum1\n",
    "            sum_prev=sum1\n",
    "            counts=np.unique(rolls, return_counts=True)[1]\n",
    "            for i in range(len(counts)):\n",
    "                if (counts[i]>=20):\n",
    "                    final_score.append(score)\n",
    "                    a=1\n",
    "                    break\n",
    "    return [first_roll, final_score]\n",
    "\n",
    "print(\"Average Final Score\")\n",
    "scores=game_weighted()[1]\n",
    "average=np.mean(scores)\n",
    "print(average)"
   ]
  },
  {
   "cell_type": "code",
   "execution_count": 10,
   "metadata": {},
   "outputs": [
    {
     "data": {
      "text/plain": [
       "(array([1.11111111e-04, 1.20350242e-03, 1.33876812e-03, 1.04891304e-03,\n",
       "        7.92874396e-04, 6.15338164e-04, 4.87922705e-04, 3.02536232e-04,\n",
       "        1.15338164e-04, 2.23429952e-05]),\n",
       " array([ 232. ,  397.6,  563.2,  728.8,  894.4, 1060. , 1225.6, 1391.2,\n",
       "        1556.8, 1722.4, 1888. ]),\n",
       " <BarContainer object of 10 artists>)"
      ]
     },
     "execution_count": 10,
     "metadata": {},
     "output_type": "execute_result"
    },
    {
     "data": {
      "image/png": "[encoded data removed]",
      "text/plain": [
       "<Figure size 432x288 with 1 Axes>"
      ]
     },
     "metadata": {
      "needs_background": "light"
     },
     "output_type": "display_data"
    }
   ],
   "source": [
    "plt.hist(scores, density=True)"
   ]
  },
  {
   "cell_type": "markdown",
   "metadata": {},
   "source": [
    "The new average final score is less than the original by around 40 points.  In addition, the histogram seems to be right skewed, suggesting more, lower scores."
   ]
  },
  {
   "cell_type": "code",
   "execution_count": null,
   "metadata": {},
   "outputs": [],
   "source": []
  }
 ],
 "metadata": {
  "kernelspec": {
   "display_name": "Python 3",
   "language": "python",
   "name": "python3"
  },
  "language_info": {
   "codemirror_mode": {
    "name": "ipython",
    "version": 3
   },
   "file_extension": ".py",
   "mimetype": "text/x-python",
   "name": "python",
   "nbconvert_exporter": "python",
   "pygments_lexer": "ipython3",
   "version": "3.8.8"
  }
 },
 "nbformat": 4,
 "nbformat_minor": 2
}
