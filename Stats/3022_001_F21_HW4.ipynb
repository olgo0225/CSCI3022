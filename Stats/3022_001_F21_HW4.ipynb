{
 "cells": [
  {
   "cell_type": "markdown",
   "metadata": {},
   "source": [
    "<a id='top'></a>\n",
    "\n",
    "# CSCI3022 F21\n",
    "# Homework 4: Bayes and Discrete RVs\n",
    "***\n",
    "\n",
    "**Name**: Olivia Golden\n",
    "\n",
    "***\n",
    "\n",
    "This assignment is due on Canvas (as .ipynb) and Gradescope (as a .pdf) by **MIDNIGHT on Mon 27 Sep**. Your solutions to theoretical questions should be done in Markdown directly below the associated question.  Your solutions to computational questions should include any specified Python code and results as well as written commentary on your conclusions.  Remember that you are encouraged to discuss the problems with your classmates, but **you must write all code and solutions on your own**.\n",
    "\n",
    "**NOTES**: \n",
    "\n",
    "- Any relevant data sets should be available on Canvas. To make life easier on the graders if they need to run your code, do not change the relative path names here. Instead, move the files around on your computer.\n",
    "- If you're not familiar with typesetting math directly into Markdown then by all means, do your work on paper first and then typeset it later.  Here is a [reference guide](https://math.meta.stackexchange.com/questions/5020/mathjax-basic-tutorial-and-quick-reference) linked on Canvas on writing math in Markdown. **All** of your written commentary, justifications and mathematical work should be in Markdown.  I also recommend the [wikibook](https://en.wikibooks.org/wiki/LaTeX) for LaTex.\n",
    "- Because you can technically evaluate notebook cells is a non-linear order, it's a good idea to do **Kernel $\\rightarrow$ Restart & Run All** as a check before submitting your solutions.  That way if we need to run your code you will know that it will work as expected. \n",
    "- It is **bad form** to make your reader interpret numerical output from your code.  If a question asks you to compute some value from the data you should show your code output **AND** write a summary of the results in Markdown directly below your code. \n",
    "- 45 points of this assignment are in problems.  The remaining 5 are for neatness, style, and overall exposition of both code and text.\n",
    "- This probably goes without saying, but... For any question that asks you to calculate something, you **must show all work and justify your answers to receive credit**. Sparse or nonexistent work will receive sparse or nonexistent credit. \n",
    "\n",
    "---\n",
    "**Shortcuts:**  [Problem 1](#p1) | [Problem 2](#p2) | [Problem 3](#p3) |\n",
    "---"
   ]
  },
  {
   "cell_type": "code",
   "execution_count": 1,
   "metadata": {},
   "outputs": [],
   "source": [
    "import numpy as np\n",
    "import pandas as pd\n",
    "import matplotlib.pylab as plt\n",
    "import scipy.stats as stats\n",
    "%matplotlib inline"
   ]
  },
  {
   "cell_type": "markdown",
   "metadata": {},
   "source": [
    "[Back to top](#top)\n",
    "<a/ id='p1'></a>\n",
    "\n",
    "## (15 pts) Problem 1: Bayes and Additional Information\n",
    "\n"
   ]
  },
  {
   "cell_type": "markdown",
   "metadata": {},
   "source": [
    "In or marbles-in-bags examples in class and in notebook 5, we asked a question about drawing marbles from bags with uneven distributions of marbles inside.  The question we often want to ask is \"how can we figure out which bag we had when all we observe is the marbles drawn?\"\n",
    "\n",
    "Our Pokédex is pretty great since we've collected lots of Pokémon. Enough that when we battle our friends, we don't even bother to think about what we choose.  Instead, we:\n",
    "\n",
    "1) Pick a **generation** of Pokémon at random, with all 4 outcomes equally likely\n",
    "\n",
    "2) Choose any one of our Pokémon of that generation to battle (each equally likely among the total options)\n",
    "\n",
    "3) If we battle again, we again choose one of our available Pokémon of the *same* generation chosen in step 1), possibly even the same Pokémon in step 2).\n",
    "\n",
    "Inside our Pokédex is the following:\n",
    "\n",
    "- From generation 1, 9 total: 3 Water types, 3 Poison types (Koffings, of course), 2 Fire types, 1 Electric Type\n",
    "- From generation 2, 14 total: 9 Water types (all Mudkips), 3 Fire types, 1 Electric Types, 1 Dragon Type\n",
    "- From generation 3, 7 total: 1 Grass type, 2 Fire types, 1 Electric Type, 3 Dragon types\n",
    "- From generation 4, 6 total: 2 Water types, 2 Fire Types, 2 Electric Types\n"
   ]
  },
  {
   "cell_type": "markdown",
   "metadata": {},
   "source": [
    "**Part A**:\n",
    "\n",
    "Suppose we battle a single friend once.  What is the exact probability that we use a Water Type, $P(W_1)$?"
   ]
  },
  {
   "cell_type": "markdown",
   "metadata": {},
   "source": [
    "$P(W_1)=P(W_1 from 1)+P(W_1 from 2)+P(W_1 from 3)+P(W_1 from 4)=(\\frac{1}{3})(\\frac{1}{4})+(\\frac{9}{14})(\\frac{1}{4})+(0)+(\\frac{2}{6})(\\frac{1}{4})=\\frac{55}{168}$"
   ]
  },
  {
   "cell_type": "markdown",
   "metadata": {},
   "source": [
    "**Part B**:\n",
    "\n",
    "Suppose we battle a single friend once, and we used a Water Type.  Given this, what is the exact probability that we were using a generation 2 Pokémon, or $P(2| W_1)$?"
   ]
  },
  {
   "cell_type": "markdown",
   "metadata": {},
   "source": [
    "$P(2|W_1)=\\frac{P(2|W_1)P(2)}{P(W_1)}=\\frac{\\frac{9}{14}\\frac{1}{4}}{\\frac{55}{168}}=\\frac{27}{55}$"
   ]
  },
  {
   "cell_type": "markdown",
   "metadata": {},
   "source": [
    "**Part C**:\n",
    "\n",
    "Are the events $2$ for \"used a second generation Pokémon\" and $W_1$ for \"used a Water Pokémon in our first battle\" independent?  Why or why not.\n",
    "\n"
   ]
  },
  {
   "cell_type": "markdown",
   "metadata": {},
   "source": [
    "No, the probability that a 2nd generation Pokemon is chosen affects the probability that a Water Pokemon is chosen."
   ]
  },
  {
   "cell_type": "markdown",
   "metadata": {},
   "source": [
    "\n",
    "**Part D**:\n",
    "\n",
    "Suppose we decide to battle 3 times in a row against the same opponent and we end up with a Water Type all 3 times.  What is the probability that all 3 Pokémon are Water Type?  **Given** that all 3 Pokémon were Water Type, which generation do you think you selected at random?  Justify with an exact probability of *each* generation.\n"
   ]
  },
  {
   "cell_type": "markdown",
   "metadata": {},
   "source": [
    "$P(W_1 \\cap W_2 \\cap W_3)=P(W_3 from 1)+P(W_3 from 2)+P(W_3 from 3)+P(W_3 from 4)=(\\frac{1}{4})(\\frac{9}{14})^3+(\\frac{1}{4})(\\frac{3}{9})^3+(0)+(\\frac{1}{4})(\\frac{2}{6})^3=\\frac{25171}{296352}\\approx 0.08493 $\n",
    "\n",
    "Generation 1:\n",
    "$P(1|W_3)=\\frac{P(W_3|1)P(1)}{P(W_1 \\cap W_2 \\cap W_3)}=\\frac{\\frac{1}{3}^3\\frac{1}{4}}{\\frac{25171}{296352}}=\\frac{2744}{25171}\\approx 0.10901$\n",
    "\n",
    "Generation 2: \n",
    "$P(2|W_3)=\\frac{P(W_3|2)P(2)}{P(W_1 \\cap W_2 \\cap W_3)}=\\frac{\\frac{9}{14}^3\\frac{1}{4}}{\\frac{25171}{296352}}=\\frac{19683}{25171}\\approx 0.78197$\n",
    "\n",
    "Generation 3:\n",
    "$P(3|W_3)=\\frac{P(W_3|3)P(3)}{P(W_1 \\cap W_2 \\cap W_3)}=\\frac{0^3\\frac{1}{4}}{\\frac{25171}{296352}}=0$\n",
    "\n",
    "Generation 4:\n",
    "$P(4|W_3)=\\frac{P(W_3|4)P(4)}{P(W_1 \\cap W_2 \\cap W_3)}=\\frac{\\frac{1}{3}^3\\frac{1}{4}}{\\frac{25171}{296352}}=\\frac{2744}{25171}\\approx 0.10901$\n",
    "\n",
    "The generation that was most likely randomly selected is Generation 2, since it has the highest probialbity P(2|W_3) has tghe highest probaility. "
   ]
  },
  {
   "cell_type": "markdown",
   "metadata": {},
   "source": [
    "**Part E**:  \n",
    "\n",
    "First, work out **by hand** a formula for the probability in general that you currently are using generation 2 Pokémon, given that you used a Water Type for $n$ battles in a row.\n",
    "\n",
    "Then, define a function `prob_gen2` to calculate $P(2 \\mid (W_1\\cap W_2 \\cap \\dots \\cap W_n))$.  This function should only take one positive integer argument, $n$.\n",
    "\n",
    "Verify that your function is performing as expected by checking your answer to **Part D**.  Then create a line plot where the $x$ axis is $n$ (from 0 to 20) and the y-axis is $P(2|\\text{\"used a water type n times in a row\"})$"
   ]
  },
  {
   "cell_type": "markdown",
   "metadata": {},
   "source": [
    "$P(2|n types)=\\frac{P(n types|2)P(2)}{P(ntypes)}=\\frac{\\frac{9}{14}^{n}\\frac{1}{4}}{\\frac{1}{4}\\frac{9}{14}^n+\\frac{1}{4}\\frac{3}{9}^n+\\frac{1}{4}\\frac{2}{6}^n}$"
   ]
  },
  {
   "cell_type": "code",
   "execution_count": 2,
   "metadata": {},
   "outputs": [
    {
     "name": "stdout",
     "output_type": "stream",
     "text": [
      "0.7819713161972112\n"
     ]
    },
    {
     "data": {
      "text/plain": [
       "<matplotlib.legend.Legend at 0x7fde52fa91f0>"
      ]
     },
     "execution_count": 2,
     "metadata": {},
     "output_type": "execute_result"
    },
    {
     "data": {
      "image/png": "[encoded data removed]",
      "text/plain": [
       "<Figure size 432x288 with 1 Axes>"
      ]
     },
     "metadata": {
      "needs_background": "light"
     },
     "output_type": "display_data"
    }
   ],
   "source": [
    "def prob_gen2(n):\n",
    "    return (((1/4)*(9/14)**n)/((1/4)*(9/14)**n+(1/4)*(1/3)**n+(1/4)*(1/3)**n)) #implementation of equation above\n",
    "\n",
    "print(prob_gen2(3)) #confirm probability from part D\n",
    "\n",
    "pg2=[]\n",
    "for i in range(21): #for 0-20\n",
    "    pg2.append(prob_gen2(i))\n",
    "\n",
    "plt.plot(pg2, label=\"Probability of Gen 2 given n types are chosen\") #plot line\n",
    "plt.legend()"
   ]
  },
  {
   "cell_type": "markdown",
   "metadata": {},
   "source": [
    "[Back to top](#top)\n",
    "<a/ id='p2'></a>\n",
    "\n",
    "## (15 pts) Problem 2 (Theory): Making a pdf\n",
    "***\n",
    "\n",
    "\n",
    "Suppose we devise the following die-rolling game.\n",
    "\n",
    "1) Roll a fair 6-sided die, and record the face `x` as your score.\n",
    "\n",
    "2) Then roll `x` more fair 6-sided dice, and add their faces to your original score `x`.\n",
    "\n",
    "Denote your final score by the random variable $Y$, and the pdf of $Y$ by $f(y)$."
   ]
  },
  {
   "cell_type": "markdown",
   "metadata": {},
   "source": [
    "**Part A**: Compute by hand the *exact* probability that $Y=5$, or $f(5)$."
   ]
  },
  {
   "cell_type": "markdown",
   "metadata": {},
   "source": [
    "For 5, the first roll must be a 1 or a 2.  If the first roll is a one, then the second roll must be a four $\\frac{1}{6}*\\frac{1}{6}=\\frac{1}{36}$. \n",
    "\n",
    "If the first roll is a 2, then the second and third rolls must be either 1,2 or 2,1\n",
    "$\\frac{1}{6}*(\\frac{1}{6}*\\frac{1}{6}+\\frac{1}{6}*\\frac{1}{6})=\\frac{1}{108}$\n",
    "\n",
    "$f(5)=\\frac{1}{36}+\\frac{1}{108}=\\frac{1}{27}$"
   ]
  },
  {
   "cell_type": "code",
   "execution_count": null,
   "metadata": {},
   "outputs": [],
   "source": []
  },
  {
   "cell_type": "markdown",
   "metadata": {},
   "source": [
    "**Part B**: Use a simulation to generate the approximate pdf $f(y)$ over all possible outcomes.  Display that pdf as a histogram. Print the approximated value of $f(5)$ to check your work in **A**"
   ]
  },
  {
   "cell_type": "code",
   "execution_count": 3,
   "metadata": {},
   "outputs": [
    {
     "name": "stdout",
     "output_type": "stream",
     "text": [
      "0.03732\n"
     ]
    },
    {
     "data": {
      "image/png": "[encoded data removed]",
      "text/plain": [
       "<Figure size 432x288 with 1 Axes>"
      ]
     },
     "metadata": {
      "needs_background": "light"
     },
     "output_type": "display_data"
    }
   ],
   "source": [
    "import random \n",
    "def game():     \n",
    "    score=0 #set starting score at 0\n",
    "    roll1=random.randint(1,6) #first roll\n",
    "    score+=roll1 #add to score\n",
    "    for i in range(roll1): #for the remaining rolls\n",
    "        roll2=random.randint(1,6)\n",
    "        score+=roll2 #add to score\n",
    "    return score\n",
    "\n",
    "pdf=[0]*43\n",
    "for i in range (100000): #create pdf\n",
    "    pdf[game()]+=1\n",
    "    \n",
    "for i in range(len(pdf)): #divide by number of trials to get probabiltiy\n",
    "    pdf[i]=pdf[i]/100000\n",
    "\n",
    "plt.bar(x=range(0,43), height=pdf)\n",
    "print(pdf[5]) #print value at 5"
   ]
  },
  {
   "cell_type": "markdown",
   "metadata": {},
   "source": [
    "**Part C**: Use your simulations in part B to generate the approximate cdf $F(y)$ over all possible outcomes.  Display that cdf as a line plot (e.g. via `plt.plot`)."
   ]
  },
  {
   "cell_type": "code",
   "execution_count": 4,
   "metadata": {},
   "outputs": [
    {
     "data": {
      "text/plain": [
       "[<matplotlib.lines.Line2D at 0x7fde300c90d0>]"
      ]
     },
     "execution_count": 4,
     "metadata": {},
     "output_type": "execute_result"
    },
    {
     "data": {
      "image/png": "[encoded data removed]",
      "text/plain": [
       "<Figure size 432x288 with 1 Axes>"
      ]
     },
     "metadata": {
      "needs_background": "light"
     },
     "output_type": "display_data"
    }
   ],
   "source": [
    "cdf=[]\n",
    "sum=0\n",
    "for i in range(len(pdf)):\n",
    "    cdf.append(sum)\n",
    "    sum+=pdf[i] #sum up probabilites for everything up to x\n",
    "\n",
    "plt.plot(cdf)"
   ]
  },
  {
   "cell_type": "markdown",
   "metadata": {},
   "source": [
    "[Back to top](#top)\n",
    "<a/ id='p3'></a>\n",
    "\n",
    "## (15 pts) How's the weather?\n",
    "***\n",
    "Suppose that we're interested in exploring how patterns in weather express themselves.  The file `boulderjuly90s.txt` imported below has the *counts* of days above 90 degrees from July 1949-2021.  See [here](https://psl.noaa.gov/boulder/) for source."
   ]
  },
  {
   "cell_type": "code",
   "execution_count": 5,
   "metadata": {},
   "outputs": [
    {
     "data": {
      "text/html": [
       "<div>\n",
       "<style scoped>\n",
       "    .dataframe tbody tr th:only-of-type {\n",
       "        vertical-align: middle;\n",
       "    }\n",
       "\n",
       "    .dataframe tbody tr th {\n",
       "        vertical-align: top;\n",
       "    }\n",
       "\n",
       "    .dataframe thead th {\n",
       "        text-align: right;\n",
       "    }\n",
       "</style>\n",
       "<table border=\"1\" class=\"dataframe\">\n",
       "  <thead>\n",
       "    <tr style=\"text-align: right;\">\n",
       "      <th></th>\n",
       "      <th>Year</th>\n",
       "      <th>JUL</th>\n",
       "    </tr>\n",
       "  </thead>\n",
       "  <tbody>\n",
       "    <tr>\n",
       "      <th>0</th>\n",
       "      <td>1949</td>\n",
       "      <td>15</td>\n",
       "    </tr>\n",
       "    <tr>\n",
       "      <th>1</th>\n",
       "      <td>1950</td>\n",
       "      <td>7</td>\n",
       "    </tr>\n",
       "    <tr>\n",
       "      <th>2</th>\n",
       "      <td>1951</td>\n",
       "      <td>21</td>\n",
       "    </tr>\n",
       "    <tr>\n",
       "      <th>3</th>\n",
       "      <td>1952</td>\n",
       "      <td>19</td>\n",
       "    </tr>\n",
       "    <tr>\n",
       "      <th>4</th>\n",
       "      <td>1953</td>\n",
       "      <td>14</td>\n",
       "    </tr>\n",
       "  </tbody>\n",
       "</table>\n",
       "</div>"
      ],
      "text/plain": [
       "   Year  JUL\n",
       "0  1949   15\n",
       "1  1950    7\n",
       "2  1951   21\n",
       "3  1952   19\n",
       "4  1953   14"
      ]
     },
     "execution_count": 5,
     "metadata": {},
     "output_type": "execute_result"
    }
   ],
   "source": [
    "days=pd.read_csv('boulderjuly90s.csv')\n",
    "days.head()"
   ]
  },
  {
   "cell_type": "markdown",
   "metadata": {},
   "source": [
    "**Part A**:\n",
    "\n",
    "Perform the usual initial explorations of data.  Ensure that there are no missing or fill values, check the size/shape of the data frame, and generate a line plot with the $x$ axis as year and the $y$ axis as days above 90 in that year's July.\n",
    "\n",
    "Do there appear to be any patterns in the number of days over time?"
   ]
  },
  {
   "cell_type": "code",
   "execution_count": 6,
   "metadata": {},
   "outputs": [
    {
     "name": "stdout",
     "output_type": "stream",
     "text": [
      "   Year  JUL\n",
      "0  1949   15\n",
      "1  1950    7\n",
      "2  1951   21\n",
      "3  1952   19\n",
      "4  1953   14\n",
      "146\n",
      "(73, 2)\n"
     ]
    },
    {
     "data": {
      "text/plain": [
       "<AxesSubplot:xlabel='Year'>"
      ]
     },
     "execution_count": 6,
     "metadata": {},
     "output_type": "execute_result"
    },
    {
     "data": {
      "image/png": "[encoded data removed]",
      "text/plain": [
       "<Figure size 432x288 with 1 Axes>"
      ]
     },
     "metadata": {
      "needs_background": "light"
     },
     "output_type": "display_data"
    }
   ],
   "source": [
    "print(days.head())\n",
    "print(days.size)\n",
    "print(days.shape)\n",
    "days.plot(x='Year', y='JUL')"
   ]
  },
  {
   "cell_type": "markdown",
   "metadata": {},
   "source": [
    "Between 1950 and 1960 and 2000-2020 the amount of days above 90 is roughly the same and is notably higher than the number between the years 1970-1990."
   ]
  },
  {
   "cell_type": "markdown",
   "metadata": {},
   "source": [
    "**Part B**:\n",
    "\n",
    "Compute the average number of days in a July that are over 90, then divide by 31 to get the overall *probability* that any given day in July is over 90.  Suppose this is the \"true\" value $p$ of an underlying *Bernoulli* random variable.\n",
    "\n",
    "If the days of any given July are actually **independent**, then each July should be 31 independent such Bernoulli random variables.  Using the relevant `scipy.stats` functions, answer the following:\n",
    "\n",
    "\"If each day is independent of one another and probability $p$ of being above 90 degrees, what is the probability that 20 or more days in July are above 90 degrees?\"\n",
    "\n",
    "Compare your theoretical result to the number of July's that actually had 20 or more days above 90 from `days`."
   ]
  },
  {
   "cell_type": "code",
   "execution_count": 7,
   "metadata": {},
   "outputs": [
    {
     "name": "stdout",
     "output_type": "stream",
     "text": [
      "Theoretical prob. of years with 20 or more days above 90\n",
      "0.016647173459368583\n",
      "Theoretical # of years with 20 or more days above 90\n",
      "0.5160623772404259\n",
      "Actual prob. of years with 20 or more days above 90\n",
      "0.1780821917808219\n",
      "Actual # of years with 20 or more days above 90\n",
      "13\n"
     ]
    }
   ],
   "source": [
    "pmf_2=[]\n",
    "pmf_3=[] #create array to store values\n",
    "for i in range(32): \n",
    "    \n",
    "    pmf_2.append((stats.binom.pmf(k=i, n=31, p=(days['JUL'].sum()/days.shape[0])/31))) #calculate probability for each \n",
    "    #n in 0-31 and mulitply by 31 to get count\n",
    "    pmf_3.append((stats.binom.pmf(k=i, n=31, p=(days['JUL'].sum()/days.shape[0])/31))*31) #calculate count\n",
    "\n",
    "sum=0\n",
    "sum2=0\n",
    "for i in range(20,32): #add probability that 20 or more days in July are above 90 degrees\n",
    "    sum+=pmf_2[i] #probability\n",
    "    sum2+=pmf_3[i] #count\n",
    "\n",
    "print(\"Theoretical prob. of years with 20 or more days above 90\")\n",
    "print(sum)\n",
    "print(\"Theoretical # of years with 20 or more days above 90\")\n",
    "print(sum2)\n",
    "\n",
    "print(\"Actual prob. of years with 20 or more days above 90\")\n",
    "print((days['JUL']>=20).sum()/days.shape[0])\n",
    "print(\"Actual # of years with 20 or more days above 90\")\n",
    "print((days['JUL']>=20).sum())"
   ]
  },
  {
   "cell_type": "markdown",
   "metadata": {},
   "source": [
    "**Part C**:\n",
    "\n",
    "Create a two part plot for the counts of the days-in-July-over-90.  The first is the histograms of the true values in `days`, the second is the theoretical value from the pmf of the underlying process if each day within the months was independent and identically distributed.  Overlay the pmf as a line on top of the histogram.  Do they visually appear to be coming from the same distribution?"
   ]
  },
  {
   "cell_type": "code",
   "execution_count": 8,
   "metadata": {},
   "outputs": [
    {
     "data": {
      "image/png": "[encoded data removed]",
      "text/plain": [
       "<Figure size 432x288 with 1 Axes>"
      ]
     },
     "metadata": {
      "needs_background": "light"
     },
     "output_type": "display_data"
    },
    {
     "data": {
      "text/plain": [
       "[<matplotlib.lines.Line2D at 0x7fde60d8e7c0>]"
      ]
     },
     "execution_count": 8,
     "metadata": {},
     "output_type": "execute_result"
    },
    {
     "data": {
      "image/png": "[encoded data removed]",
      "text/plain": [
       "<Figure size 432x288 with 1 Axes>"
      ]
     },
     "metadata": {
      "needs_background": "light"
     },
     "output_type": "display_data"
    }
   ],
   "source": [
    "days.hist('JUL') #histogram with count\n",
    "plt.xlabel('# of days over 90')\n",
    "plt.plot(pmf_3)\n",
    "plt.show()\n",
    "plt.hist(days['JUL'], 31, [0,31],'density') #histogram with probability \n",
    "plt.xlabel('# of days over 90')\n",
    "plt.plot(pmf_2)"
   ]
  },
  {
   "cell_type": "markdown",
   "metadata": {},
   "source": [
    "**Part D**:\n",
    "\n",
    "Draw a conclusion.  What possible causes could you find for your results in **C** for the similarities and/or differences between the two distributions?"
   ]
  },
  {
   "cell_type": "markdown",
   "metadata": {},
   "source": [
    "The two graphs differences come from the fact that the days in July are not indepdendent.  If a day is hot the chances of the previous and next days being hot is higher than the calcualted p in Part B.  The same goes for a cooler day."
   ]
  },
  {
   "cell_type": "code",
   "execution_count": null,
   "metadata": {},
   "outputs": [],
   "source": []
  }
 ],
 "metadata": {
  "kernelspec": {
   "display_name": "Python 3",
   "language": "python",
   "name": "python3"
  },
  "language_info": {
   "codemirror_mode": {
    "name": "ipython",
    "version": 3
   },
   "file_extension": ".py",
   "mimetype": "text/x-python",
   "name": "python",
   "nbconvert_exporter": "python",
   "pygments_lexer": "ipython3",
   "version": "3.8.8"
  }
 },
 "nbformat": 4,
 "nbformat_minor": 2
}
